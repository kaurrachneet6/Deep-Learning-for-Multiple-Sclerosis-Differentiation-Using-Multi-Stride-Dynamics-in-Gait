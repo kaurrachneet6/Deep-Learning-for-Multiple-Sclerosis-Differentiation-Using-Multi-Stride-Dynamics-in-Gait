{
 "cells": [
  {
   "cell_type": "markdown",
   "metadata": {},
   "source": [
    "## GAAIMS: Predicting Multiple Sclerosis from Dynamics of Gait Variability Using an Instrumented Treadmill - A Machine Learning-Based Approach\n",
    "## Foot Progression Angles (Right and Left)\n",
    "#### Refer https://jneuroengrehab.biomedcentral.com/articles/10.1186/s12984-018-0419-2 for definitions of FPAs"
   ]
  },
  {
   "cell_type": "markdown",
   "metadata": {},
   "source": [
    "### Package imports "
   ]
  },
  {
   "cell_type": "code",
   "execution_count": 1,
   "metadata": {},
   "outputs": [],
   "source": [
    "import numpy as np\n",
    "import pandas as pd\n",
    "import math\n",
    "import os\n",
    "import warnings\n",
    "warnings.filterwarnings('ignore')\n",
    "import matplotlib.pyplot as plt\n",
    "import seaborn as sns"
   ]
  },
  {
   "cell_type": "code",
   "execution_count": 2,
   "metadata": {},
   "outputs": [],
   "source": [
    "path = 'C:\\\\Users\\\\Rachneet Kaur\\\\Dropbox\\\\GAIT\\\\sample_data\\\\data_export\\\\'"
   ]
  },
  {
   "cell_type": "code",
   "execution_count": 3,
   "metadata": {},
   "outputs": [],
   "source": [
    "# Get all the file names in the dictionary\n",
    "control_ids = list(range(200, 220))\n",
    "ms_ids = list(range(300, 315)) + [318, 320, 321, 322, 323]\n",
    "raw_controls_t1 = [path +str(i)+ '_B3_TRIAL01_RAWDATA.csv' for i in control_ids]\n",
    "raw_controls_t2 = [path +str(i)+ '_B3_TRIAL02_RAWDATA.csv' for i in control_ids]\n",
    "\n",
    "raw_ms_t1 = [path +str(i)+ '_B3_TRIAL01_RAWDATA.csv' for i in ms_ids]\n",
    "raw_ms_t2 = [path +str(i)+ '_B3_TRIAL02_RAWDATA.csv' for i in ms_ids]\n",
    "\n",
    "gait_controls_t1 = [path +str(i)+ '_B3_TRIAL01_GAITCYCLES.csv' for i in control_ids]\n",
    "gait_controls_t2 = [path +str(i)+ '_B3_TRIAL02_GAITCYCLES.csv' for i in control_ids]\n",
    "\n",
    "gait_ms_t1 = [path +str(i)+ '_B3_TRIAL01_GAITCYCLES.csv' for i in ms_ids]\n",
    "gait_ms_t2 = [path +str(i)+ '_B3_TRIAL02_GAITCYCLES.csv' for i in ms_ids]"
   ]
  },
  {
   "cell_type": "code",
   "execution_count": 4,
   "metadata": {},
   "outputs": [],
   "source": [
    "# for every GaitCycle file, a sequence of walk will always start with a heel strike on the right foot.\n",
    "# Thus the order of the Gait event points would be HSR, TOL, MidSSR, HSL, TOR and MidSSL.\n",
    "gait_type = np.array(['HSR', 'TOL', 'MidSSR', 'HSL', 'TOR', 'MidSSL'])\n",
    "\n",
    "#Delta_time\n",
    "delta_time = 0.002 #Since the data is collected is 500Hz frequency "
   ]
  },
  {
   "cell_type": "markdown",
   "metadata": {},
   "source": [
    "### Utility functions"
   ]
  },
  {
   "cell_type": "code",
   "execution_count": 5,
   "metadata": {},
   "outputs": [],
   "source": [
    "#functions to drop missing values and invalid data \n",
    "def drop_unnamed(dataframe):\n",
    "    return(dataframe.drop(['Unnamed: 0', 'Unnamed: 0.1'], axis = 1))\n",
    "\n",
    "#Eliminate missing values\n",
    "def drop_na(dataframe):\n",
    "    return(pd.DataFrame.dropna(dataframe))\n",
    "\n",
    "#Eliminate invalid data \n",
    "def get_valid(dataframe):\n",
    "    return(dataframe.loc[dataframe.Valid == True, :])\n",
    "\n",
    "# Valid strides in the gait_cycles.csv file \n",
    "def get_cycle(dataframe):\n",
    "    stride_start = min(dataframe.loc[dataframe.EventType == 'HSR'].index)\n",
    "    stride_end = max(dataframe.loc[dataframe.EventType == 'MidSSL'].index)   \n",
    "    return dataframe.loc[stride_start:stride_end]\n",
    "\n",
    "# Restore the indexing for the cropped dataframe \n",
    "def change_index(dataframe):\n",
    "    dataframe.index = range(len(dataframe))\n",
    "    return dataframe\n",
    "\n",
    "# get all the valid index in order: HSR-TOL-MidSSR-HSL-TOR-MidSSL\n",
    "def set_complete(data_frame):\n",
    "    # input is the Dataframe includes ONLY valid points \n",
    "    # get all the index of HSR since it starts with heal strike left\n",
    "    # if the length of last gait cycle contain HSR does not equals to 6, then ignore it\n",
    "    \n",
    "    HSR = data_frame.loc[data_frame.EventType == 'HSR'].index\n",
    "    last_idx = HSR[-1]\n",
    "    last_all_idx = data_frame.index[-1]\n",
    "    # if the last gait cycles contains HSR is not a valid gait cycle, then we should consider the last second HSR instead.\n",
    "    if((last_all_idx-last_idx) < 5):\n",
    "        HSR = HSR[0:-1] \n",
    "    else:\n",
    "        HSR = HSR\n",
    "    \n",
    "    # get all the valid index in order: HSR-TOL-MidSSR-HSL-TOR-MidSSL\n",
    "    valid = []\n",
    "    for idx_HSR in HSR:\n",
    "        if (((idx_HSR + 1) in data_frame.index) & ((idx_HSR + 2) in data_frame.index) &\n",
    "            ((idx_HSR + 3) in data_frame.index) & ((idx_HSR + 4) in data_frame.index) & \n",
    "            ((idx_HSR + 5) in data_frame.index)):\n",
    "            # the valid index exist in the dataframe.\n",
    "            if((data_frame.loc[idx_HSR + 1].EventType == 'TOL') & (data_frame.loc[idx_HSR + 2].EventType == 'MidSSR') & \n",
    "               (data_frame.loc[idx_HSR + 3].EventType == 'HSL') & (data_frame.loc[idx_HSR + 4].EventType == 'TOR') & \n",
    "               (data_frame.loc[idx_HSR + 5].EventType == 'MidSSL')):\n",
    "                valid.extend(range(idx_HSR, idx_HSR+6))\n",
    "    #returns the list of valid indices which form complete strides \n",
    "    return valid"
   ]
  },
  {
   "cell_type": "markdown",
   "metadata": {},
   "source": [
    "### Data Preprocessing"
   ]
  },
  {
   "cell_type": "code",
   "execution_count": 6,
   "metadata": {},
   "outputs": [],
   "source": [
    "#Preprocessing the files to delete missing and invalid data \n",
    "#For each person (control and MS) in Trial 1\n",
    "def cleaning(pid, trial = 1, cohort = 'controls'):\n",
    "    if (cohort == 'controls'):\n",
    "        if (trial == 1):\n",
    "            gait = pd.read_csv(gait_controls_t1[pid])\n",
    "            raw = pd.read_csv(raw_controls_t1[pid])\n",
    "        else:\n",
    "            gait = pd.read_csv(gait_controls_t2[pid])\n",
    "            raw = pd.read_csv(raw_controls_t2[pid])            \n",
    "    \n",
    "    if (cohort == 'pwms'):\n",
    "        if (trial == 1):\n",
    "            gait = pd.read_csv(gait_ms_t1[pid])\n",
    "            raw = pd.read_csv(raw_ms_t1[pid])\n",
    "        else:\n",
    "            gait = pd.read_csv(gait_ms_t2[pid])\n",
    "            raw = pd.read_csv(raw_ms_t2[pid])            \n",
    "    gait = drop_na(gait)\n",
    "    gait  = get_valid(gait)\n",
    "\n",
    "    #Reducing to complete strides data \n",
    "    gait = get_cycle(gait)\n",
    "    indices_complete = set_complete(gait)\n",
    "    gait = gait.loc[indices_complete]\n",
    "\n",
    "    #Resetting the index \n",
    "    gait = change_index(gait)\n",
    "    return indices_complete, gait, raw"
   ]
  },
  {
   "cell_type": "markdown",
   "metadata": {},
   "source": [
    "### Calculating the foot progression angles"
   ]
  },
  {
   "cell_type": "code",
   "execution_count": 7,
   "metadata": {},
   "outputs": [],
   "source": [
    "#Foot progression angle - right foot\n",
    "def FPA_right(x1, x2, y1, y2):\n",
    "    return np.arctan2((y2 - y1), (x2 - x1)) / math.pi *  180\n",
    "\n",
    "#Left foot progression angle \n",
    "def FPA_left(x1, x2, y1, y2):\n",
    "    return np.arctan2((y2 - y1), (x2 - x1)) / math.pi * 180 * (-1)"
   ]
  },
  {
   "cell_type": "code",
   "execution_count": 8,
   "metadata": {},
   "outputs": [],
   "source": [
    "#Foot Progression Calculator function given Patient ID, Trial ID and cohort \n",
    "def FPA_calculator(pid, trial_id, cohort):\n",
    "    indices_complete, gait, raw = cleaning(pid, trial_id, cohort)\n",
    "\n",
    "    stride_count = int(gait.shape[0]/6) #6 events in each stride\n",
    "\n",
    "    #Exact times of HSR\n",
    "    HSR_times = gait['Time'][gait.EventType == 'HSR']\n",
    "    #Exact times of TOR \n",
    "    TOR_times = gait['Time'][gait.EventType == 'TOR']\n",
    "    #Exact times of HSL\n",
    "    HSL_times = gait['Time'][gait.EventType == 'HSL']\n",
    "    #Exact times of TOL \n",
    "    TOL_times = gait['Time'][gait.EventType == 'TOL']\n",
    "\n",
    "    #X for HSR\n",
    "    HSR_X = gait['X'][gait.EventType == 'HSR']\n",
    "    #X for TOR \n",
    "    TOR_X = gait['X'][gait.EventType == 'TOR']\n",
    "    #X for HSL\n",
    "    HSL_X = gait['X'][gait.EventType == 'HSL']\n",
    "    #X for TOL\n",
    "    TOL_X = gait['X'][gait.EventType == 'TOL']\n",
    "\n",
    "    #Y for HSR\n",
    "    HSR_Y = gait['Y'][gait.EventType == 'HSR']\n",
    "    #Y for TOR \n",
    "    TOR_Y = gait['Y'][gait.EventType == 'TOR']\n",
    "    #Y for HSL\n",
    "    HSL_Y = gait['Y'][gait.EventType == 'HSL']\n",
    "    #Y for TOL\n",
    "    TOL_Y = gait['Y'][gait.EventType == 'TOL']\n",
    "\n",
    "    #For four events of interest, calculate the closest times from RAWDATA.csv file \n",
    "    HSR_times_raw = [raw['Time'][raw['Time']>HSR_times.iloc[i]].iloc[0] for i in range(stride_count)]\n",
    "    TOR_times_raw = [raw['Time'][raw['Time']>TOR_times.iloc[i]].iloc[0] for i in range(stride_count)]\n",
    "    HSL_times_raw = [raw['Time'][raw['Time']>HSL_times.iloc[i]].iloc[0] for i in range(stride_count)]\n",
    "    TOL_times_raw = [raw['Time'][raw['Time']>TOL_times.iloc[i]].iloc[0] for i in range(stride_count)]\n",
    "\n",
    "    rely_progR = []\n",
    "    rely_footR = []\n",
    "    rely_progL = []\n",
    "    rely_footL = []\n",
    "\n",
    "    for idx in range(0, stride_count): #Use for all strides for each person, each trial\n",
    "        try:\n",
    "            #For Right Foot\n",
    "            #Relative y indices for HSR(i-1) to HSR(i) \n",
    "            rely_prog_idxR = (raw['Time']>=HSR_times_raw[idx]) & (raw['Time']<HSR_times_raw[idx+1]) #Progression vector \n",
    "\n",
    "            #Relative y indices for HSR(i) to TOR(i) \n",
    "            rely_foot_idxR = (raw['Time']>=HSR_times_raw[idx+1]) & (raw['Time']<TOR_times_raw[idx+1]) #Foot direction vector\n",
    "\n",
    "            #Relative_y or Belt Speed = Speed*dt = Area under the speed curve *dt for HSR(i-1) to HSR(i)\n",
    "            rely_progR.append(np.trapz(raw['Speed'][rely_prog_idxR])*0.002) \n",
    "\n",
    "            #Relative_y or Belt Speed = Speed*dt = Area under the speed curve *dt for HSR(i) to TOR(i)\n",
    "            rely_footR.append(np.trapz(raw['Speed'][rely_foot_idxR])*0.002) \n",
    "\n",
    "            #For Left Foot \n",
    "            #Relative y indices for HSL(i-1) to HSL(i) \n",
    "            rely_prog_idxL = (raw['Time']>=HSL_times_raw[idx]) & (raw['Time']<HSL_times_raw[idx+1]) #Progression vector \n",
    "\n",
    "            #Relative y indices for HSL(i) to TOL(i+1) \n",
    "            rely_foot_idxL = (raw['Time']>=HSL_times_raw[idx+1]) & (raw['Time']<TOL_times_raw[idx+2]) #Foot direction vector\n",
    "\n",
    "            #Relative_y or Belt Speed = Speed*dt = Area under the speed curve *dt for HSL(i-1) to HSL(i)\n",
    "            rely_progL.append(np.trapz(raw['Speed'][rely_prog_idxL])*0.002) \n",
    "\n",
    "            #Relative_y or Belt Speed = Speed*dt = Area under the speed curve *dt for HSL(i) to TOL(i+1)\n",
    "            rely_footL.append(np.trapz(raw['Speed'][rely_foot_idxL])*0.002) \n",
    "        except:\n",
    "            pass\n",
    "\n",
    "    #Right Foot \n",
    "    #HSR_Y after adding the relative y correspoding to previous HSR\n",
    "    rel_HSR_Y = HSR_Y[1:].values+np.array(rely_progR) \n",
    "    #TOR_Y after adding the relative y corresponding to same foot HSR starting from foot 2\n",
    "    rel_TOR_Y = TOR_Y[1:].values+np.array(rely_footR) \n",
    "\n",
    "    #Left Foot\n",
    "    #HSL_Y of foot 2(stride 2) after adding the relative y correspoding to previous HSL (first and last one cannot be used)\n",
    "    #First one cannot be used since we need first 2 to compute Heel-Heel angle\n",
    "    #Last one cannot be used since we need TOL of next stride (which doesn't exist) to compute HeelLeft-Toe Left angle \n",
    "    rel_HSL_Y = HSL_Y[1:-1].values+np.array(rely_progL) \n",
    "    #TOL_Y of foot 2 (stride 3) after adding the relative y corresponding to same foot HSL starting from foot 2 \n",
    "    #(first 2 will not be used)\n",
    "    rel_TOL_Y = TOL_Y[2:].values+np.array(rely_footL) \n",
    "\n",
    "    #Right FPA\n",
    "    #HSR-NextHSR angle with horizontal axis \n",
    "    HH_R = list(map(FPA_right, HSR_X[:-1].values, HSR_X[1:].values, HSR_Y[:-1].values, rel_HSR_Y))\n",
    "    #HSR-TOR angle with horizontal axis starting from second HSR \n",
    "    HT_R = list(map(FPA_right, HSR_X[1:].values, TOR_X[1:].values, HSR_Y[1:].values, rel_TOR_Y))\n",
    "    #Right Foot Progression angle = angle of HH with horixontal axis - angle of HT with horizontal axis\n",
    "    rightFPA = np.array(HH_R)-np.array(HT_R)\n",
    "\n",
    "    #Left FPA\n",
    "    #HSL-NextHSL angle with horizontal axis \n",
    "    HH_L = list(map(FPA_left, HSL_X[:-2].values, HSL_X[1:-1].values, HSL_Y[:-2].values, rel_HSL_Y))\n",
    "    #HSL-TOL angle with horizontal axis starting from second HSL\n",
    "    HT_L = list(map(FPA_left, HSL_X[1:-1].values, TOL_X[2:].values, HSL_Y[1:-1].values, rel_TOL_Y))\n",
    "    #Right Foot Progression angle = angle of HH with horixontal axis - angle of HT with horizontal axis\n",
    "    leftFPA = np.array(HH_L)-np.array(HT_L)\n",
    "    \n",
    "    #Right Foot\n",
    "    #Convert in-consequetive gait cycles' angles to NaN \n",
    "    stride_idx = np.array(indices_complete[::6][1:]) - np.array(indices_complete[::6][:-1])\n",
    "    #If this difference is not 6, that means the valid strides is not in consequent order, hence, we cannot compute angles \n",
    "    rightFPA[np.where(stride_idx!=6)[0]] = np.nan\n",
    "    #Total length must match the stride count \n",
    "    #For RFPA, append NaN at the beginning\n",
    "    rightFPA = np.insert(rightFPA, 0, np.nan)\n",
    "\n",
    "    #Left Foot\n",
    "    #If this difference is not 6, that means the valid strides is not in consequent order, hence, we cannot compute angles \n",
    "    for x in np.where(stride_idx!=6)[0]:\n",
    "        if ((x-1)>=0): #For 0th index, only 0 should be Nan, else, x-1 and x should be Nan\n",
    "            leftFPA[x-1] = np.nan\n",
    "        try: \n",
    "            #For last index, LeftFPA has length no. of strides-2, so, for the last stride to be non-consequetive, \n",
    "            #there will be no current LeftFPA value to be nullified \n",
    "            leftFPA[x] = np.nan\n",
    "        except:\n",
    "            pass\n",
    "    #Total length must match the stride count \n",
    "    #For LFPA, append NaN at the beginning and at the end\n",
    "    leftFPA = np.insert(leftFPA, 0, np.nan)\n",
    "    leftFPA= np.append(leftFPA, np.nan)\n",
    "    \n",
    "    return leftFPA, rightFPA"
   ]
  },
  {
   "cell_type": "markdown",
   "metadata": {},
   "source": [
    "### Creating the dataframe and storing in .csv"
   ]
  },
  {
   "cell_type": "code",
   "execution_count": 9,
   "metadata": {},
   "outputs": [],
   "source": [
    "#Dataframe with Patient ID, Trial ID, (Right FPA, Left FPA for each stride)\n",
    "df = pd.DataFrame()\n",
    "\n",
    "cohorts = ['controls', 'pwms']\n",
    "trials = [1, 2]\n",
    "for trial_id in trials:\n",
    "    for cohort in cohorts:\n",
    "        for index in range(0, 20): #20 people in each cohort and each trial\n",
    "            if cohort == 'controls':\n",
    "                pid = control_ids[index]\n",
    "            else:\n",
    "                pid = ms_ids[index]\n",
    "            leftFPA, rightFPA = FPA_calculator(index, trial_id, cohort)\n",
    "            \n",
    "            temp_df = pd.DataFrame(data = np.array([[pid]*len(leftFPA), [trial_id]*len(leftFPA), leftFPA, rightFPA]).T)\n",
    "            df = df.append(temp_df, ignore_index= True)\n",
    "df.columns = ['PID', 'TrialID', 'LeftFPA', 'RightFPA']"
   ]
  },
  {
   "cell_type": "markdown",
   "metadata": {},
   "source": [
    "### Statistics and Plots "
   ]
  },
  {
   "cell_type": "code",
   "execution_count": 10,
   "metadata": {},
   "outputs": [
    {
     "data": {
      "text/html": [
       "<div>\n",
       "<style scoped>\n",
       "    .dataframe tbody tr th:only-of-type {\n",
       "        vertical-align: middle;\n",
       "    }\n",
       "\n",
       "    .dataframe tbody tr th {\n",
       "        vertical-align: top;\n",
       "    }\n",
       "\n",
       "    .dataframe thead th {\n",
       "        text-align: right;\n",
       "    }\n",
       "</style>\n",
       "<table border=\"1\" class=\"dataframe\">\n",
       "  <thead>\n",
       "    <tr style=\"text-align: right;\">\n",
       "      <th></th>\n",
       "      <th>PID</th>\n",
       "      <th>TrialID</th>\n",
       "      <th>LeftFPA</th>\n",
       "      <th>RightFPA</th>\n",
       "    </tr>\n",
       "  </thead>\n",
       "  <tbody>\n",
       "    <tr>\n",
       "      <th>0</th>\n",
       "      <td>200.0</td>\n",
       "      <td>1.0</td>\n",
       "      <td>NaN</td>\n",
       "      <td>NaN</td>\n",
       "    </tr>\n",
       "    <tr>\n",
       "      <th>1</th>\n",
       "      <td>200.0</td>\n",
       "      <td>1.0</td>\n",
       "      <td>0.454459</td>\n",
       "      <td>1.039040</td>\n",
       "    </tr>\n",
       "    <tr>\n",
       "      <th>2</th>\n",
       "      <td>200.0</td>\n",
       "      <td>1.0</td>\n",
       "      <td>-0.267919</td>\n",
       "      <td>-2.942001</td>\n",
       "    </tr>\n",
       "    <tr>\n",
       "      <th>3</th>\n",
       "      <td>200.0</td>\n",
       "      <td>1.0</td>\n",
       "      <td>0.669773</td>\n",
       "      <td>3.611119</td>\n",
       "    </tr>\n",
       "    <tr>\n",
       "      <th>4</th>\n",
       "      <td>200.0</td>\n",
       "      <td>1.0</td>\n",
       "      <td>-8.515633</td>\n",
       "      <td>3.855825</td>\n",
       "    </tr>\n",
       "    <tr>\n",
       "      <th>5</th>\n",
       "      <td>200.0</td>\n",
       "      <td>1.0</td>\n",
       "      <td>13.063372</td>\n",
       "      <td>-5.439336</td>\n",
       "    </tr>\n",
       "    <tr>\n",
       "      <th>6</th>\n",
       "      <td>200.0</td>\n",
       "      <td>1.0</td>\n",
       "      <td>-3.474319</td>\n",
       "      <td>1.169755</td>\n",
       "    </tr>\n",
       "    <tr>\n",
       "      <th>7</th>\n",
       "      <td>200.0</td>\n",
       "      <td>1.0</td>\n",
       "      <td>-4.613322</td>\n",
       "      <td>-2.827393</td>\n",
       "    </tr>\n",
       "    <tr>\n",
       "      <th>8</th>\n",
       "      <td>200.0</td>\n",
       "      <td>1.0</td>\n",
       "      <td>6.996230</td>\n",
       "      <td>8.947207</td>\n",
       "    </tr>\n",
       "    <tr>\n",
       "      <th>9</th>\n",
       "      <td>200.0</td>\n",
       "      <td>1.0</td>\n",
       "      <td>-1.971395</td>\n",
       "      <td>-5.192350</td>\n",
       "    </tr>\n",
       "  </tbody>\n",
       "</table>\n",
       "</div>"
      ],
      "text/plain": [
       "     PID  TrialID    LeftFPA  RightFPA\n",
       "0  200.0      1.0        NaN       NaN\n",
       "1  200.0      1.0   0.454459  1.039040\n",
       "2  200.0      1.0  -0.267919 -2.942001\n",
       "3  200.0      1.0   0.669773  3.611119\n",
       "4  200.0      1.0  -8.515633  3.855825\n",
       "5  200.0      1.0  13.063372 -5.439336\n",
       "6  200.0      1.0  -3.474319  1.169755\n",
       "7  200.0      1.0  -4.613322 -2.827393\n",
       "8  200.0      1.0   6.996230  8.947207\n",
       "9  200.0      1.0  -1.971395 -5.192350"
      ]
     },
     "execution_count": 10,
     "metadata": {},
     "output_type": "execute_result"
    }
   ],
   "source": [
    "df[:10]"
   ]
  },
  {
   "cell_type": "code",
   "execution_count": 11,
   "metadata": {},
   "outputs": [],
   "source": [
    "df['Label'] = [int (i) for i in df['PID']/100>=3] #Assigning 0 for Healthy, 1 for PwMS"
   ]
  },
  {
   "cell_type": "code",
   "execution_count": 12,
   "metadata": {},
   "outputs": [
    {
     "name": "stdout",
     "output_type": "stream",
     "text": [
      "-13.788412124975181 169.49961211412125\n",
      "-211.16011000927992 207.8563820170504\n",
      "-166.02596294913067 82.78939067152098\n",
      "-63.59992381476697 183.1765758164122\n",
      "0.5029926344062193 4.817368979756204\n",
      "0.42452227375179846 7.280628517410553\n",
      "0.07520461267428204 6.502792170671697\n",
      "0.1860634610575886 6.87032814886635\n"
     ]
    }
   ],
   "source": [
    "print (df[(df['Label']==0)]['LeftFPA'].min(), df[(df['Label']==0)]['LeftFPA'].max())\n",
    "print(df[(df['Label']==0)]['RightFPA'].min(), df[(df['Label']==0)]['RightFPA'].max())\n",
    "print (df[(df['Label']==1)]['LeftFPA'].min(), df[(df['Label']==1)]['LeftFPA'].max())\n",
    "print(df[(df['Label']==1)]['RightFPA'].min(), df[(df['Label']==1)]['RightFPA'].max())\n",
    "\n",
    "print (df[(df['Label']==0)]['LeftFPA'].mean(), df[(df['Label']==0)]['LeftFPA'].std())\n",
    "print(df[(df['Label']==0)]['RightFPA'].mean(), df[(df['Label']==0)]['RightFPA'].std())\n",
    "\n",
    "print (df[(df['Label']==1)]['LeftFPA'].mean(), df[(df['Label']==1)]['LeftFPA'].std())\n",
    "print(df[(df['Label']==1)]['RightFPA'].mean(), df[(df['Label']==1)]['RightFPA'].std())"
   ]
  },
  {
   "cell_type": "code",
   "execution_count": 13,
   "metadata": {},
   "outputs": [],
   "source": [
    "#Saving csv file\n",
    "#One with PatientID, TrialID, LeftFPA, RightFPA\n",
    "df.to_csv(path+'..\\\\FPA\\\\FPA_feature.csv')"
   ]
  },
  {
   "cell_type": "markdown",
   "metadata": {},
   "source": [
    "### Vizualizations (Box and Swarm plots) for trials W and WT"
   ]
  },
  {
   "cell_type": "code",
   "execution_count": 46,
   "metadata": {},
   "outputs": [
    {
     "data": {
      "image/png": "[encoded data removed]",
      "text/plain": [
       "<Figure size 576x576 with 1 Axes>"
      ]
     },
     "metadata": {
      "needs_background": "light"
     },
     "output_type": "display_data"
    }
   ],
   "source": [
    "#Left FPA\n",
    "#Trial W - Box plot without and with outliers  (swarmplot)\n",
    "plt.figure(figsize = (8, 8))\n",
    "# ax = sns.boxplot(x= 'TrialID', hue = 'Label', y='LeftFPA', data=df, linewidth=2.5, palette=\"Set3\", \n",
    "#                  width=0.6, showfliers = False)\n",
    "# ax = sns.violinplot(x= 'TrialID', hue = 'Label', y='LeftFPA', data=df, dodge = True, inner=None, split = True)\n",
    "ax = sns.swarmplot(x= 'TrialID', hue = 'Label', y='LeftFPA', data=df, dodge = True, palette=\"Set2\")\n",
    "handles, _ = ax.get_legend_handles_labels()\n",
    "ax.legend(handles, ['HOA', 'PwMS'], loc = 'upper right')\n",
    "plt.ylabel(r\"Left foot progression angle ($\\theta_L$) (in $degrees$)\")\n",
    "plt.xlabel('Experimental trial')\n",
    "plt.xticks([0, 1], ['Trial W', 'Trial WT'])\n",
    "plt.title('Left FPA')\n",
    "# plt.savefig(path + '..\\\\butterfly\\\\boxplots\\\\x_abs_w_wt.png', dpi = 250) #Use Box plot here \n",
    "plt.savefig(path + '..\\\\FPA\\\\LeftFPA_swarm.png', dpi = 250) #Use Swarmplot here \n",
    "plt.show()\n"
   ]
  },
  {
   "cell_type": "code",
   "execution_count": 51,
   "metadata": {},
   "outputs": [
    {
     "data": {
      "image/png": "[encoded data removed]",
      "text/plain": [
       "<Figure size 576x576 with 1 Axes>"
      ]
     },
     "metadata": {
      "needs_background": "light"
     },
     "output_type": "display_data"
    }
   ],
   "source": [
    "#Right FPA\n",
    "#Trial W - Box plot without and with outliers  (swarmplot)\n",
    "plt.figure(figsize = (8, 8))\n",
    "# ax = sns.boxplot(x= 'TrialID', hue = 'Label', y='RightFPA', data=df, linewidth=2.5, palette=\"Set3\", \n",
    "#                  width=0.6, showfliers = False)\n",
    "# ax = sns.violinplot(x= 'TrialID', hue = 'Label', y='RightFPA', data=df, dodge = True, inner=None, split = True)\n",
    "ax = sns.swarmplot(x= 'TrialID', hue = 'Label', y='RightFPA', data=df, dodge = True, palette=\"Set2\")\n",
    "handles, _ = ax.get_legend_handles_labels()\n",
    "ax.legend(handles, ['HOA', 'PwMS'], loc = 'upper right')\n",
    "plt.ylabel(r\"Right foot progression angle ($\\theta_R$) (in $degrees$)\")\n",
    "plt.xlabel('Experimental trial')\n",
    "plt.xticks([0, 1], ['Trial W', 'Trial WT'])\n",
    "plt.title('Right FPA')\n",
    "# plt.savefig(path + '..\\\\FPA\\\\RightFPA.png', dpi = 250) #Use Box plot here \n",
    "plt.savefig(path + '..\\\\FPA\\\\RightFPA_swarm.png', dpi = 250) #Use Swarmplot here \n",
    "plt.show()\n"
   ]
  },
  {
   "cell_type": "code",
   "execution_count": null,
   "metadata": {},
   "outputs": [],
   "source": []
  }
 ],
 "metadata": {
  "kernelspec": {
   "display_name": "Python 3",
   "language": "python",
   "name": "python3"
  },
  "language_info": {
   "codemirror_mode": {
    "name": "ipython",
    "version": 3
   },
   "file_extension": ".py",
   "mimetype": "text/x-python",
   "name": "python",
   "nbconvert_exporter": "python",
   "pygments_lexer": "ipython3",
   "version": "3.7.3"
  }
 },
 "nbformat": 4,
 "nbformat_minor": 2
}
