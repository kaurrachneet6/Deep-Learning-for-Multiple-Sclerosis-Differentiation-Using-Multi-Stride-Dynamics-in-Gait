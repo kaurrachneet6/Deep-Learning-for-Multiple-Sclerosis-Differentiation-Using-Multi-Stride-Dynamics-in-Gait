{
 "cells": [
  {
   "cell_type": "markdown",
   "metadata": {},
   "source": [
    "## GAAIMS: Predicting Multiple Sclerosis from Dynamics of Gait Variability Using an Instrumented Treadmill - A Machine Learning-Based Approach\n",
    "\n",
    "## Multiple Regression-based scaling of features where regression is done on a separate set of controls for trial W only\n",
    "#### NOTE: For computing the regression coefficients, we use only Trial 1 data and we aggregate features via means to regress with physical characterstics of person as independent variables."
   ]
  },
  {
   "cell_type": "markdown",
   "metadata": {},
   "source": [
    "### Package imports"
   ]
  },
  {
   "cell_type": "code",
   "execution_count": 4,
   "metadata": {},
   "outputs": [],
   "source": [
    "import numpy as np\n",
    "import pandas as pd\n",
    "import math \n",
    "import os\n",
    "import copy\n",
    "import itertools\n",
    "import warnings\n",
    "warnings.filterwarnings('ignore')\n",
    "from scipy import stats\n",
    "import statsmodels.formula.api as sm\n",
    "import statsmodels.api as smapi\n",
    "from RegscorePy import aic\n",
    "from statsmodels.stats.outliers_influence import variance_inflation_factor\n",
    "from statsmodels.tools.tools import add_constant\n",
    "import csv"
   ]
  },
  {
   "cell_type": "code",
   "execution_count": 5,
   "metadata": {},
   "outputs": [],
   "source": [
    "path = 'C:\\\\Users\\\\Rachneet Kaur\\\\Dropbox\\\\GAIT\\\\control_data\\\\Treadmill_Data_Controls\\\\Treadmill_Data_Controls\\\\'"
   ]
  },
  {
   "cell_type": "code",
   "execution_count": 6,
   "metadata": {},
   "outputs": [
    {
     "name": "stdout",
     "output_type": "stream",
     "text": [
      "Full dataframe shape:  (4011, 31)\n",
      "(30, 4)\n"
     ]
    }
   ],
   "source": [
    "#Reading the raw dataframe and trial 1 dataframe to compute the regression coefficients \n",
    "raw_df = pd.read_csv(path+'..\\\\..\\\\extracted_features\\\\gait_features_30controlsTrialW.csv', index_col = 0)\n",
    "print ('Full dataframe shape: ', raw_df.shape)\n",
    "\n",
    "#Reading the demographics of the subjects\n",
    "demographies = []\n",
    "demo_file = open(path + '..\\\\..\\\\DTC_GS_v3.txt') #File with demographics \n",
    "demo = csv.reader(demo_file, delimiter='\\t')\n",
    "for row in demo:\n",
    "    demographies.append(list(map(float, row[:7]))) \n",
    "    #<Columns: SubjectID, Gender (0: Female, 1: Male), -, Height, Weight, _, Age>\n",
    "demographies = pd.DataFrame(demographies).drop_duplicates().drop([2, 5], axis = 1)\n",
    "demographies.columns = ['subject ID', 'Gender (0: Female, 1: Male)', 'height (m)','weight (kg)','age (yrs)']\n",
    "demographies['weight (kg)']/=10 #Converting weight to kg\n",
    "\n",
    "#Keeping demographics of only the 30 subjects we have the raw data for \n",
    "demographies = demographies[demographies['subject ID'].isin(raw_df['PID'].unique())]\n",
    "demographies.drop(demographies.index[1], axis =0, inplace = True)\n",
    "\n",
    "#Keeping only the required demographic features\n",
    "demographies = demographies.set_index('subject ID')\n",
    "\n",
    "print (demographies.shape)"
   ]
  },
  {
   "cell_type": "code",
   "execution_count": 16,
   "metadata": {},
   "outputs": [
    {
     "name": "stdout",
     "output_type": "stream",
     "text": [
      "Mean:\n",
      " Gender (0: Female, 1: Male)     0.300000\n",
      "height (m)                      1.682333\n",
      "weight (kg)                    71.611333\n",
      "age (yrs)                      67.600000\n",
      "dtype: float64\n",
      "\n",
      "SD:\n",
      " Gender (0: Female, 1: Male)     0.466092\n",
      "height (m)                      0.171538\n",
      "weight (kg)                    14.515445\n",
      "age (yrs)                      10.344414\n",
      "dtype: float64\n",
      "\n",
      "Min:\n",
      " Gender (0: Female, 1: Male)     0.00\n",
      "height (m)                      1.01\n",
      "weight (kg)                    52.97\n",
      "age (yrs)                      50.00\n",
      "dtype: float64 \n",
      "Max:\n",
      " Gender (0: Female, 1: Male)      1.00\n",
      "height (m)                       1.96\n",
      "weight (kg)                    103.00\n",
      "age (yrs)                       87.00\n",
      "dtype: float64\n",
      "0.0    21\n",
      "1.0     9\n",
      "Name: Gender (0: Female, 1: Male), dtype: int64\n"
     ]
    }
   ],
   "source": [
    "print ('Mean:\\n', demographies.mean())\n",
    "print ('\\nSD:\\n', demographies.std())\n",
    "print ('\\nMin:\\n', demographies.min(), '\\nMax:\\n', demographies.max())\n",
    "print (demographies['Gender (0: Female, 1: Male)'].value_counts())"
   ]
  },
  {
   "cell_type": "markdown",
   "metadata": {},
   "source": [
    "### 20 controls and 20 PwMS trial W/WT data to scale based on coefficients derived from separate dataset of 30 controls trial W"
   ]
  },
  {
   "cell_type": "code",
   "execution_count": 251,
   "metadata": {},
   "outputs": [
    {
     "name": "stdout",
     "output_type": "stream",
     "text": [
      "(3230, 33) (35, 4)\n"
     ]
    }
   ],
   "source": [
    "#Gait features for the subjects to be used for analysis\n",
    "raw_df2 = pd.read_csv(path + '..\\\\..\\\\..\\\\gait_features.csv', index_col = 0)\n",
    "raw_df2.dropna(inplace=True)\n",
    "\n",
    "#Reading the demographics of the real subjects for analysis\n",
    "demographies2 = pd.read_csv(path + '..\\\\..\\\\..\\\\sample_data\\\\demographics.csv')\n",
    "\n",
    "#Keeping demographics of only the 35 subjects we have the raw data for \n",
    "demographies2 = demographies2[demographies2['subject ID'].isin(raw_df2['PID'].unique())]\n",
    "\n",
    "#Keeping only the required demographic features\n",
    "demographies2 = demographies2[['subject ID', 'height (m)', 'weight (kg)', 'gender (1-female, 2-male)', 'age (yrs)']]\n",
    "demographies2 = demographies2.set_index('subject ID')\n",
    "\n",
    "print (raw_df2.shape, demographies2.shape)"
   ]
  },
  {
   "cell_type": "markdown",
   "metadata": {},
   "source": [
    "### Dropping the missing values"
   ]
  },
  {
   "cell_type": "code",
   "execution_count": 252,
   "metadata": {},
   "outputs": [
    {
     "name": "stdout",
     "output_type": "stream",
     "text": [
      "Full dataframe shape:  (3923, 22)\n"
     ]
    }
   ],
   "source": [
    "#Dropping the NaN containing columns \n",
    "raw_df.dropna(inplace=True)\n",
    "\n",
    "features = ['PID', 'stride_time', 'stance_time', 'swing_time', 'SS_R', 'DS_L', 'DS_R', 'stride_length', 'stride_width',\n",
    "       'cadence', 'stride_speed',  'walk_ratio', 'force_HSR', 'force_TOL', 'force_MidSSR',\n",
    "       'force_HSL', 'force_TOR', 'force_MidSSL']\n",
    "stat_features = features+['LeftFPA', 'RightFPA', 'Butterfly_x_abs', 'ButterflySQ_x']\n",
    "raw_df=raw_df[stat_features]\n",
    "\n",
    "print ('Full dataframe shape: ', raw_df.shape)"
   ]
  },
  {
   "cell_type": "code",
   "execution_count": 253,
   "metadata": {},
   "outputs": [],
   "source": [
    "#For computing the regression coefficients, we use only Trial 1 data and\n",
    "#we aggregate features via means to regress with physical characterstics of person as independent variables.\n",
    "raw_df = raw_df.groupby(['PID']).mean()\n",
    "\n",
    "#Sort the values for features to make sure we match the subjects by ID\n",
    "raw_df.sort_values('PID', inplace=True)"
   ]
  },
  {
   "cell_type": "code",
   "execution_count": 254,
   "metadata": {},
   "outputs": [
    {
     "data": {
      "text/html": [
       "<div>\n",
       "<style scoped>\n",
       "    .dataframe tbody tr th:only-of-type {\n",
       "        vertical-align: middle;\n",
       "    }\n",
       "\n",
       "    .dataframe tbody tr th {\n",
       "        vertical-align: top;\n",
       "    }\n",
       "\n",
       "    .dataframe thead th {\n",
       "        text-align: right;\n",
       "    }\n",
       "</style>\n",
       "<table border=\"1\" class=\"dataframe\">\n",
       "  <thead>\n",
       "    <tr style=\"text-align: right;\">\n",
       "      <th></th>\n",
       "      <th>stride_time</th>\n",
       "      <th>stance_time</th>\n",
       "      <th>swing_time</th>\n",
       "      <th>SS_R</th>\n",
       "      <th>DS_L</th>\n",
       "      <th>DS_R</th>\n",
       "      <th>stride_length</th>\n",
       "      <th>stride_width</th>\n",
       "      <th>cadence</th>\n",
       "      <th>stride_speed</th>\n",
       "      <th>...</th>\n",
       "      <th>force_HSR</th>\n",
       "      <th>force_TOL</th>\n",
       "      <th>force_MidSSR</th>\n",
       "      <th>force_HSL</th>\n",
       "      <th>force_TOR</th>\n",
       "      <th>force_MidSSL</th>\n",
       "      <th>LeftFPA</th>\n",
       "      <th>RightFPA</th>\n",
       "      <th>Butterfly_x_abs</th>\n",
       "      <th>ButterflySQ_x</th>\n",
       "    </tr>\n",
       "    <tr>\n",
       "      <th>PID</th>\n",
       "      <th></th>\n",
       "      <th></th>\n",
       "      <th></th>\n",
       "      <th></th>\n",
       "      <th></th>\n",
       "      <th></th>\n",
       "      <th></th>\n",
       "      <th></th>\n",
       "      <th></th>\n",
       "      <th></th>\n",
       "      <th></th>\n",
       "      <th></th>\n",
       "      <th></th>\n",
       "      <th></th>\n",
       "      <th></th>\n",
       "      <th></th>\n",
       "      <th></th>\n",
       "      <th></th>\n",
       "      <th></th>\n",
       "      <th></th>\n",
       "      <th></th>\n",
       "    </tr>\n",
       "  </thead>\n",
       "  <tbody>\n",
       "    <tr>\n",
       "      <th>102</th>\n",
       "      <td>1.344101</td>\n",
       "      <td>0.907059</td>\n",
       "      <td>0.437042</td>\n",
       "      <td>0.453210</td>\n",
       "      <td>0.219143</td>\n",
       "      <td>0.234706</td>\n",
       "      <td>1.314343</td>\n",
       "      <td>0.136730</td>\n",
       "      <td>89.898582</td>\n",
       "      <td>0.977754</td>\n",
       "      <td>...</td>\n",
       "      <td>895.159611</td>\n",
       "      <td>879.439441</td>\n",
       "      <td>794.206454</td>\n",
       "      <td>887.933336</td>\n",
       "      <td>908.385405</td>\n",
       "      <td>784.118744</td>\n",
       "      <td>0.537527</td>\n",
       "      <td>0.849989</td>\n",
       "      <td>0.007634</td>\n",
       "      <td>0.000090</td>\n",
       "    </tr>\n",
       "    <tr>\n",
       "      <th>104</th>\n",
       "      <td>1.366788</td>\n",
       "      <td>0.931535</td>\n",
       "      <td>0.435253</td>\n",
       "      <td>0.417091</td>\n",
       "      <td>0.264202</td>\n",
       "      <td>0.250242</td>\n",
       "      <td>0.880055</td>\n",
       "      <td>0.137815</td>\n",
       "      <td>87.987976</td>\n",
       "      <td>0.644481</td>\n",
       "      <td>...</td>\n",
       "      <td>760.780322</td>\n",
       "      <td>773.865853</td>\n",
       "      <td>748.168398</td>\n",
       "      <td>774.781255</td>\n",
       "      <td>773.177286</td>\n",
       "      <td>748.244960</td>\n",
       "      <td>1.425461</td>\n",
       "      <td>0.824362</td>\n",
       "      <td>0.006681</td>\n",
       "      <td>0.000062</td>\n",
       "    </tr>\n",
       "    <tr>\n",
       "      <th>105</th>\n",
       "      <td>0.946119</td>\n",
       "      <td>0.627238</td>\n",
       "      <td>0.318881</td>\n",
       "      <td>0.324524</td>\n",
       "      <td>0.147452</td>\n",
       "      <td>0.155262</td>\n",
       "      <td>1.293181</td>\n",
       "      <td>0.159439</td>\n",
       "      <td>126.890391</td>\n",
       "      <td>1.367557</td>\n",
       "      <td>...</td>\n",
       "      <td>595.575749</td>\n",
       "      <td>557.791959</td>\n",
       "      <td>404.426186</td>\n",
       "      <td>593.878461</td>\n",
       "      <td>565.909642</td>\n",
       "      <td>396.768610</td>\n",
       "      <td>0.952252</td>\n",
       "      <td>0.311234</td>\n",
       "      <td>0.005047</td>\n",
       "      <td>0.000045</td>\n",
       "    </tr>\n",
       "    <tr>\n",
       "      <th>107</th>\n",
       "      <td>1.185467</td>\n",
       "      <td>0.801750</td>\n",
       "      <td>0.383717</td>\n",
       "      <td>0.374117</td>\n",
       "      <td>0.215967</td>\n",
       "      <td>0.211667</td>\n",
       "      <td>1.305486</td>\n",
       "      <td>0.148967</td>\n",
       "      <td>101.372010</td>\n",
       "      <td>1.104128</td>\n",
       "      <td>...</td>\n",
       "      <td>1158.000141</td>\n",
       "      <td>999.706236</td>\n",
       "      <td>920.299814</td>\n",
       "      <td>1107.009907</td>\n",
       "      <td>1007.683192</td>\n",
       "      <td>888.747349</td>\n",
       "      <td>1.084747</td>\n",
       "      <td>0.836310</td>\n",
       "      <td>0.006492</td>\n",
       "      <td>0.000073</td>\n",
       "    </tr>\n",
       "    <tr>\n",
       "      <th>109</th>\n",
       "      <td>0.941146</td>\n",
       "      <td>0.625024</td>\n",
       "      <td>0.316122</td>\n",
       "      <td>0.306659</td>\n",
       "      <td>0.162537</td>\n",
       "      <td>0.155829</td>\n",
       "      <td>1.260584</td>\n",
       "      <td>0.177215</td>\n",
       "      <td>127.889529</td>\n",
       "      <td>1.345666</td>\n",
       "      <td>...</td>\n",
       "      <td>1065.553503</td>\n",
       "      <td>1115.800847</td>\n",
       "      <td>763.383612</td>\n",
       "      <td>1075.465922</td>\n",
       "      <td>1121.244483</td>\n",
       "      <td>765.629270</td>\n",
       "      <td>0.818530</td>\n",
       "      <td>0.438725</td>\n",
       "      <td>0.006000</td>\n",
       "      <td>0.000070</td>\n",
       "    </tr>\n",
       "  </tbody>\n",
       "</table>\n",
       "<p>5 rows × 21 columns</p>\n",
       "</div>"
      ],
      "text/plain": [
       "     stride_time  stance_time  swing_time      SS_R      DS_L      DS_R  \\\n",
       "PID                                                                       \n",
       "102     1.344101     0.907059    0.437042  0.453210  0.219143  0.234706   \n",
       "104     1.366788     0.931535    0.435253  0.417091  0.264202  0.250242   \n",
       "105     0.946119     0.627238    0.318881  0.324524  0.147452  0.155262   \n",
       "107     1.185467     0.801750    0.383717  0.374117  0.215967  0.211667   \n",
       "109     0.941146     0.625024    0.316122  0.306659  0.162537  0.155829   \n",
       "\n",
       "     stride_length  stride_width     cadence  stride_speed  ...    force_HSR  \\\n",
       "PID                                                         ...                \n",
       "102       1.314343      0.136730   89.898582      0.977754  ...   895.159611   \n",
       "104       0.880055      0.137815   87.987976      0.644481  ...   760.780322   \n",
       "105       1.293181      0.159439  126.890391      1.367557  ...   595.575749   \n",
       "107       1.305486      0.148967  101.372010      1.104128  ...  1158.000141   \n",
       "109       1.260584      0.177215  127.889529      1.345666  ...  1065.553503   \n",
       "\n",
       "       force_TOL  force_MidSSR    force_HSL    force_TOR  force_MidSSL  \\\n",
       "PID                                                                      \n",
       "102   879.439441    794.206454   887.933336   908.385405    784.118744   \n",
       "104   773.865853    748.168398   774.781255   773.177286    748.244960   \n",
       "105   557.791959    404.426186   593.878461   565.909642    396.768610   \n",
       "107   999.706236    920.299814  1107.009907  1007.683192    888.747349   \n",
       "109  1115.800847    763.383612  1075.465922  1121.244483    765.629270   \n",
       "\n",
       "      LeftFPA  RightFPA  Butterfly_x_abs  ButterflySQ_x  \n",
       "PID                                                      \n",
       "102  0.537527  0.849989         0.007634       0.000090  \n",
       "104  1.425461  0.824362         0.006681       0.000062  \n",
       "105  0.952252  0.311234         0.005047       0.000045  \n",
       "107  1.084747  0.836310         0.006492       0.000073  \n",
       "109  0.818530  0.438725         0.006000       0.000070  \n",
       "\n",
       "[5 rows x 21 columns]"
      ]
     },
     "execution_count": 254,
     "metadata": {},
     "output_type": "execute_result"
    }
   ],
   "source": [
    "raw_df.head()"
   ]
  },
  {
   "cell_type": "markdown",
   "metadata": {},
   "source": [
    "### VIF for physical characteristics to examine multicollinearity between them"
   ]
  },
  {
   "cell_type": "code",
   "execution_count": 255,
   "metadata": {},
   "outputs": [
    {
     "name": "stdout",
     "output_type": "stream",
     "text": [
      "VIF values:  const                          452.853963\n",
      "Gender (0: Female, 1: Male)      2.356415\n",
      "height (m)                       2.012432\n",
      "weight (kg)                      2.056829\n",
      "age (yrs)                        1.649474\n",
      "dtype: float64\n"
     ]
    }
   ],
   "source": [
    "X = add_constant(demographies)\n",
    "VIF = pd.Series([variance_inflation_factor(X.values, i) for i in range(X.shape[1])], index=X.columns)\n",
    "print ('VIF values: ', VIF)\n",
    "#Since all the VIF values<5, hence, we use all the physical factors as independent variables in multiple regression "
   ]
  },
  {
   "cell_type": "markdown",
   "metadata": {},
   "source": [
    "### Correlation among the physical characteristics of the subjects (to be used as independent variables for linear regression)"
   ]
  },
  {
   "cell_type": "code",
   "execution_count": 256,
   "metadata": {},
   "outputs": [
    {
     "name": "stdout",
     "output_type": "stream",
     "text": [
      "             weight (kg)  age (yrs)  height (m)\n",
      "weight (kg)     1.000000  -0.535599    0.456398\n",
      "age (yrs)      -0.535599   1.000000   -0.364154\n",
      "height (m)      0.456398  -0.364154    1.000000\n",
      "SpearmanrResult(correlation=array([[ 1.        , -0.53559945,  0.45639849],\n",
      "       [-0.53559945,  1.        , -0.3641535 ],\n",
      "       [ 0.45639849, -0.3641535 ,  1.        ]]), pvalue=array([[0.        , 0.00228694, 0.01124257],\n",
      "       [0.00228694, 0.        , 0.04789265],\n",
      "       [0.01124257, 0.04789265, 0.        ]]))\n"
     ]
    },
    {
     "data": {
      "text/html": [
       "<div>\n",
       "<style scoped>\n",
       "    .dataframe tbody tr th:only-of-type {\n",
       "        vertical-align: middle;\n",
       "    }\n",
       "\n",
       "    .dataframe tbody tr th {\n",
       "        vertical-align: top;\n",
       "    }\n",
       "\n",
       "    .dataframe thead th {\n",
       "        text-align: right;\n",
       "    }\n",
       "</style>\n",
       "<table border=\"1\" class=\"dataframe\">\n",
       "  <thead>\n",
       "    <tr style=\"text-align: right;\">\n",
       "      <th></th>\n",
       "      <th>weight (kg)</th>\n",
       "      <th>age (yrs)</th>\n",
       "      <th>height (m)</th>\n",
       "    </tr>\n",
       "  </thead>\n",
       "  <tbody>\n",
       "    <tr>\n",
       "      <th>weight (kg)</th>\n",
       "      <td>1.000000</td>\n",
       "      <td>-0.535599</td>\n",
       "      <td>0.456398</td>\n",
       "    </tr>\n",
       "    <tr>\n",
       "      <th>age (yrs)</th>\n",
       "      <td>-0.535599</td>\n",
       "      <td>1.000000</td>\n",
       "      <td>-0.364154</td>\n",
       "    </tr>\n",
       "    <tr>\n",
       "      <th>height (m)</th>\n",
       "      <td>0.456398</td>\n",
       "      <td>-0.364154</td>\n",
       "      <td>1.000000</td>\n",
       "    </tr>\n",
       "  </tbody>\n",
       "</table>\n",
       "</div>"
      ],
      "text/plain": [
       "             weight (kg)  age (yrs)  height (m)\n",
       "weight (kg)     1.000000  -0.535599    0.456398\n",
       "age (yrs)      -0.535599   1.000000   -0.364154\n",
       "height (m)      0.456398  -0.364154    1.000000"
      ]
     },
     "execution_count": 256,
     "metadata": {},
     "output_type": "execute_result"
    }
   ],
   "source": [
    "demo_features = ['weight (kg)', 'age (yrs)', 'height (m)']\n",
    "print (demographies[demo_features].corr('spearman'))\n",
    "print (stats.spearmanr(demographies[demo_features]))\n",
    "demographies[demo_features].corr('spearman')"
   ]
  },
  {
   "cell_type": "code",
   "execution_count": 257,
   "metadata": {},
   "outputs": [
    {
     "name": "stdout",
     "output_type": "stream",
     "text": [
      "[PointbiserialrResult(correlation=0.5448921827074423, pvalue=0.0018486105665315008), PointbiserialrResult(correlation=-0.08868425604008276, pvalue=0.6411984897408496), PointbiserialrResult(correlation=0.6465039082071554, pvalue=0.00011345910603372089)]\n"
     ]
    }
   ],
   "source": [
    "#Point Biserial correlation coefficient is used to examine correlation between a categorical and a numerical variable \n",
    "#For gender since it is a categorical variable \n",
    "corr_with_gender = []\n",
    "for feat in demo_features:\n",
    "    corr_with_gender.append(stats.pointbiserialr(demographies['Gender (0: Female, 1: Male)'], demographies[feat]))\n",
    "print (corr_with_gender)"
   ]
  },
  {
   "cell_type": "markdown",
   "metadata": {},
   "source": [
    "### Multiple regression using backward elimination with p = 0.1 as cutoff and AIC criterion for evaluation"
   ]
  },
  {
   "cell_type": "code",
   "execution_count": 258,
   "metadata": {},
   "outputs": [],
   "source": [
    "#Since gender is a categorical variable, we create one hot encoding of the same before applying regression models\n",
    "demographies['Gender (0: Female, 1: Male)'] = demographies['Gender (0: Female, 1: Male)'].astype(object)\n",
    "demographies_x = pd.get_dummies(demographies)\n",
    "demographies_x = add_constant(demographies_x)\n",
    "#Sort the values by subject ID to make sure we regress on the subjects correctly \n",
    "demographies_x.sort_values('subject ID', inplace=True)\n",
    "\n",
    "#Separating male and female \n",
    "# demographies_x_m = demographies_x[demographies_x['gender (1-female, 2-male)']==2]\n",
    "# demographies_x_m.drop('gender (1-female, 2-male)', axis = 1, inplace = True)\n",
    "# demographies_x_f = demographies_x[demographies_x['gender (1-female, 2-male)']==1]\n",
    "# demographies_x_f.drop('gender (1-female, 2-male)', axis = 1, inplace = True)\n",
    "# #For males, demographies_x_m; for females, demographies_x_f\n",
    "# demographies_x_m"
   ]
  },
  {
   "cell_type": "code",
   "execution_count": 259,
   "metadata": {},
   "outputs": [],
   "source": [
    "#Separating male/females in gait features\n",
    "# raw_df_trial1_m = raw_df_trial1[demographies_x['gender (1-female, 2-male)']==2]\n",
    "# raw_df_trial1_f = raw_df_trial1[demographies_x['gender (1-female, 2-male)']==1]"
   ]
  },
  {
   "cell_type": "code",
   "execution_count": 260,
   "metadata": {},
   "outputs": [],
   "source": [
    "#Function for backward elimination with coefficients with p value>threshol = 0.1 are dropped one at a time \n",
    "#This computes the reduced significant variables to regress on \n",
    "def BackwardElimination(x_temp, y, pval):\n",
    "    x = copy.deepcopy(x_temp)\n",
    "    max_iter = len(x.columns)\n",
    "    #We are eliminating variables one at a time \n",
    "    for i in range(0, max_iter):\n",
    "        regressor_OLS = sm.OLS(y.values, x.values).fit()\n",
    "#         print(regressor_OLS.summary())\n",
    "        max_pval = max(regressor_OLS.pvalues)\n",
    "        if max_pval >= pval: #If some of the variables have p-value>threshold(0.1)\n",
    "            x.drop(x.columns[regressor_OLS.pvalues == max_pval][0], axis = 1, inplace=True) \n",
    "            #Then drop variables one at a time with max p-value>threshold and fit the model again \n",
    "        else:\n",
    "            break\n",
    "    return x.columns"
   ]
  },
  {
   "cell_type": "markdown",
   "metadata": {},
   "source": [
    "### Selecting the model with minimum AIC after selecting the predictors using backward elimination"
   ]
  },
  {
   "cell_type": "code",
   "execution_count": 261,
   "metadata": {},
   "outputs": [],
   "source": [
    "final_predictors = pd.DataFrame() #Dataframe to store final predictor physical features for each of the gait features using AIC\n",
    "\n",
    "#Dataframe to store all predictors selected via backward elimination (without AIC selection) results\n",
    "all_predictors = pd.DataFrame() \n",
    "\n",
    "for feature in raw_df.columns:\n",
    "    #Backward elimination\n",
    "    var_regress = BackwardElimination(demographies_x, raw_df[feature], 0.10)\n",
    "    var_regress1 = copy.deepcopy(list(var_regress))\n",
    "    try:\n",
    "        var_regress1.remove('const')\n",
    "    except:\n",
    "        pass\n",
    "    var_regress1.append('const')\n",
    "    regressor_OLS1 = sm.OLS(raw_df[feature].values, demographies_x[var_regress1].values).fit()\n",
    "    R_squared = regressor_OLS1.rsquared_adj\n",
    "    aic = regressor_OLS1.aic\n",
    "    all_predictors = all_predictors.append(pd.DataFrame([feature, var_regress1, \n",
    "                                                             R_squared, aic]).T, ignore_index = True)\n",
    "    #AIC selection \n",
    "    aic_list, R_squared_list = [], []\n",
    "    feature_list = []\n",
    "    try:\n",
    "        for k in range(1, len(var_regress) + 1):\n",
    "            #We can have 1 feature, 2 features, ..., upto no. of predictors features \n",
    "            #Making combinations of these features to regress on and checking AIC\n",
    "            for combo in itertools.combinations(var_regress, k):\n",
    "                combo_list = list(combo)\n",
    "                combo_list.append('const') #Adding the constant 1s for regression using OLS\n",
    "                regressor_OLS = sm.OLS(raw_df[feature].values, demographies_x[combo_list].values).fit()\n",
    "                aic_list.append(regressor_OLS.aic)          \n",
    "                R_squared_list.append(regressor_OLS.rsquared_adj)\n",
    "                feature_list.append(combo_list)\n",
    "        #We select the model with the minimum AIC \n",
    "        selected_features = np.argmin(aic_list)\n",
    "    #     print (feature, feature_list[selected_features], R_squared_list[selected_features], aic_list[selected_features])\n",
    "        final_predictors = final_predictors.append(pd.DataFrame([feature, feature_list[selected_features], \n",
    "                                                                 R_squared_list[selected_features], aic_list[selected_features]]).T\n",
    "                                                   , ignore_index = True)\n",
    "    except:\n",
    "        pass\n",
    "final_predictors.columns = ['feature', 'aic_predictors', 'Adjusted Rsquared', 'AIC']\n",
    "all_predictors.columns = ['feature', 'all_predictors', 'Adjusted Rsquared', 'AIC']"
   ]
  },
  {
   "cell_type": "code",
   "execution_count": 262,
   "metadata": {},
   "outputs": [],
   "source": [
    "#Saving all and AIC seleted features with their adjusted R^2 and AIC to csv file\n",
    "dataframe_predictors = pd.concat([all_predictors, final_predictors], axis=1)\n",
    "dataframe_predictors.to_csv(path+'..//..//extracted_features//MRfeatures.csv')"
   ]
  },
  {
   "cell_type": "markdown",
   "metadata": {},
   "source": [
    "### Fit a robust MR model with biweight function and compute regression coefficients, scaled residual"
   ]
  },
  {
   "cell_type": "code",
   "execution_count": 263,
   "metadata": {},
   "outputs": [],
   "source": [
    "## This dataframe must be based on the real analysis data because we divide this by raw_df2 to get \n",
    "#mr_regressed data to use for analysis\n",
    "\n",
    "#Dataframe containing scaling factors for the MR regression \n",
    "#Diving raw_df and mr_dataframe produces the scaled MR-regression based gait features to finally do the analysis on\n",
    "mr_dataframe = pd.DataFrame()\n",
    "#Filling the Patient and Trial IDs\n",
    "mr_dataframe[['PID', 'TrialID']] = raw_df2[['PID', 'TrialID']]\n",
    "#Attaching the height, weight, age and dummy variable for gender\n",
    "mr_dataframe['height (m)'] = mr_dataframe['PID'].map(demographies2['height (m)'])\n",
    "mr_dataframe['weight (kg)'] = mr_dataframe['PID'].map(demographies2['weight (kg)'])\n",
    "mr_dataframe['age (yrs)'] = mr_dataframe['PID'].map(demographies2['age (yrs)'])\n",
    "mr_dataframe['gender (1-female, 2-male)'] = mr_dataframe['PID'].map(demographies2['gender (1-female, 2-male)'])\n",
    "mr_dataframe['gender (1-female, 2-male)'] = mr_dataframe['gender (1-female, 2-male)'].astype(object)\n",
    "mr_dataframe = pd.get_dummies(mr_dataframe)\n",
    "mr_dataframe = add_constant(mr_dataframe)\n",
    "mr_dataframe.rename(columns = {'gender (1-female, 2-male)_1':'Gender (0: Female, 1: Male)_0.0',\n",
    "                              'gender (1-female, 2-male)_2':'Gender (0: Female, 1: Male)_1.0'}, inplace = True) "
   ]
  },
  {
   "cell_type": "code",
   "execution_count": 264,
   "metadata": {},
   "outputs": [],
   "source": [
    "#Function to calculate RMSE \n",
    "def rmse_accuracy_percentage(actual, predicted): \n",
    "    print(\"RMSE is:\", np.round(np.sqrt(sum(((np.array(a)-np.array(b))**2))/len(a)),2))"
   ]
  },
  {
   "cell_type": "code",
   "execution_count": 265,
   "metadata": {},
   "outputs": [],
   "source": [
    "#Robust MR regression \n",
    "#Fit the robust MR model and based on predictors and coefficients, scale the gait features (both for trial1 and trial2)\n",
    "#Note that only trial 1 features were used to fit the MR model though \n",
    "def Robust_MR(x, y):\n",
    "    #Using the biweight function \n",
    "    rlm_model = sm.RLM(y, x, M = smapi.robust.norms.TukeyBiweight())\n",
    "    rlm_fit = rlm_model.fit()\n",
    "    #Calculating the coeffients and RMSE to report\n",
    "    scal_pram = rlm_fit.params\n",
    "    print ('Coefficients: ', scal_pram)\n",
    "    print ('RMSE:', np.sqrt(np.mean(rlm_fit.sresid**2)))\n",
    "    return(scal_pram)"
   ]
  },
  {
   "cell_type": "code",
   "execution_count": 266,
   "metadata": {},
   "outputs": [],
   "source": [
    "#Using the Robust MR regression, computing the columns of the mr_dataframe \n",
    "#which are going to scaling values for each gait feature \n",
    "def scale_mr(feature, parameters):\n",
    "    coeff = Robust_MR(demographies_x[parameters].values, raw_df[feature].values) #Regression is done on 30 separate controls data\n",
    "\n",
    "    #Based on the computed regression coefficients and parameters, computing the scaling factor\n",
    "    for i in range(len(parameters)):\n",
    "        if i==0:\n",
    "            scale_result = coeff[i]*mr_dataframe[parameters[i]] #Scaling is done on the real data to be analysed \n",
    "        else:\n",
    "            scale_result += coeff[i]*mr_dataframe[parameters[i]]\n",
    "    mr_dataframe[feature] = scale_result"
   ]
  },
  {
   "cell_type": "code",
   "execution_count": 267,
   "metadata": {},
   "outputs": [
    {
     "data": {
      "text/plain": [
       "feature                   ButterflySQ_x\n",
       "all_predictors       [age (yrs), const]\n",
       "Adjusted Rsquared            -0.0255309\n",
       "AIC                            -481.216\n",
       "feature                   ButterflySQ_x\n",
       "aic_predictors       [age (yrs), const]\n",
       "Adjusted Rsquared            -0.0255309\n",
       "AIC                            -481.216\n",
       "Name: 20, dtype: object"
      ]
     },
     "execution_count": 267,
     "metadata": {},
     "output_type": "execute_result"
    }
   ],
   "source": [
    "dataframe_predictors.iloc[20]"
   ]
  },
  {
   "cell_type": "code",
   "execution_count": 268,
   "metadata": {},
   "outputs": [],
   "source": [
    "#Making a dictionary with each gait feature and corresponding parameters to use for regression\n",
    "#Make sure to add const to every set of predictors to regress upon\n",
    "#Make sure to use both gender dummy variablesas predictors if one is used \n",
    "dict_mr = { 'stride_time': ['const', 'height (m)'],\n",
    "           'swing_time': ['const', 'Gender (0: Female, 1: Male)_0.0', 'height (m)'], \n",
    "           'stance_time': ['const', 'Gender (0: Female, 1: Male)_0.0', 'Gender (0: Female, 1: Male)_1.0'],\n",
    "           'SS_R': ['const', 'Gender (0: Female, 1: Male)_0.0', 'Gender (0: Female, 1: Male)_1.0'],\n",
    "           'DS_L': ['const', 'height (m)'],\n",
    "           'DS_R': ['const', 'height (m)'],\n",
    "           'stride_length': ['const', 'Gender (0: Female, 1: Male)_0.0', 'Gender (0: Female, 1: Male)_1.0'],\n",
    "           'stride_width': ['const', 'weight (kg)', 'age (yrs)'],\n",
    "           'cadence': ['const', 'height (m)'],\n",
    "           'stride_speed': ['const', 'Gender (0: Female, 1: Male)_0.0', 'Gender (0: Female, 1: Male)_1.0'],\n",
    "           'walk_ratio': ['const', 'Gender (0: Female, 1: Male)_0.0', 'Gender (0: Female, 1: Male)_1.0'],\n",
    "           'force_HSR': ['const', 'weight (kg)'],\n",
    "           'force_MidSSR': ['const', 'weight (kg)'],\n",
    "           'force_TOR': ['const', 'weight (kg)', 'Gender (0: Female, 1: Male)_1.0'],\n",
    "           'force_HSL': ['const', 'weight (kg)'],\n",
    "           'force_TOL': ['const', 'weight (kg)', 'Gender (0: Female, 1: Male)_1.0'],\n",
    "           'force_MidSSL': ['const', 'weight (kg)'],           \n",
    "           'LeftFPA': ['const', 'age (yrs)', 'weight (kg)'], \n",
    "           'RightFPA': ['const','age (yrs)', 'weight (kg)'],  \n",
    "           'Butterfly_x_abs': ['const', 'height (m)', 'age (yrs)'],\n",
    "           'ButterflySQ_x': ['const', 'age (yrs)']}"
   ]
  },
  {
   "cell_type": "code",
   "execution_count": 269,
   "metadata": {},
   "outputs": [
    {
     "name": "stdout",
     "output_type": "stream",
     "text": [
      "feature:  stride_time\n",
      "parameters:  ['const', 'height (m)']\n",
      "Coefficients:  [0.65083662 0.30819458]\n",
      "RMSE: 1.1652465962333203\n",
      "*********************\n",
      "feature:  swing_time\n",
      "parameters:  ['const', 'Gender (0: Female, 1: Male)_0.0', 'height (m)']\n",
      "Coefficients:  [0.16054602 0.02691985 0.12017462]\n",
      "RMSE: 1.0857130807496476\n",
      "*********************\n",
      "feature:  stance_time\n",
      "parameters:  ['const', 'Gender (0: Female, 1: Male)_0.0', 'Gender (0: Female, 1: Male)_1.0']\n",
      "Coefficients:  [0.53133081 0.25053637 0.28079444]\n",
      "RMSE: 0.9107281827048278\n",
      "*********************\n",
      "feature:  SS_R\n",
      "parameters:  ['const', 'Gender (0: Female, 1: Male)_0.0', 'Gender (0: Female, 1: Male)_1.0']\n",
      "Coefficients:  [0.25560003 0.12620311 0.12939692]\n",
      "RMSE: 0.8517892944437641\n",
      "*********************\n",
      "feature:  DS_L\n",
      "parameters:  ['const', 'height (m)']\n",
      "Coefficients:  [0.0715103  0.08036021]\n",
      "RMSE: 0.8440931946295742\n",
      "*********************\n",
      "feature:  DS_R\n",
      "parameters:  ['const', 'height (m)']\n",
      "Coefficients:  [0.09556113 0.06261636]\n",
      "RMSE: 0.9929326531428202\n",
      "*********************\n",
      "feature:  stride_length\n",
      "parameters:  ['const', 'Gender (0: Female, 1: Male)_0.0', 'Gender (0: Female, 1: Male)_1.0']\n",
      "Coefficients:  [0.76268035 0.3982412  0.36443915]\n",
      "RMSE: 0.9988926276172678\n",
      "*********************\n",
      "feature:  stride_width\n",
      "parameters:  ['const', 'weight (kg)', 'age (yrs)']\n",
      "Coefficients:  [-0.14885016  0.00167671  0.00239427]\n",
      "RMSE: 1.1406780024963359\n",
      "*********************\n",
      "feature:  cadence\n",
      "parameters:  ['const', 'height (m)']\n",
      "Coefficients:  [152.59473613 -29.11021409]\n",
      "RMSE: 1.0316952369397376\n",
      "*********************\n",
      "feature:  stride_speed\n",
      "parameters:  ['const', 'Gender (0: Female, 1: Male)_0.0', 'Gender (0: Female, 1: Male)_1.0']\n",
      "Coefficients:  [0.66033325 0.35567368 0.30465957]\n",
      "RMSE: 0.7534761721079866\n",
      "*********************\n",
      "feature:  walk_ratio\n",
      "parameters:  ['const', 'Gender (0: Female, 1: Male)_0.0', 'Gender (0: Female, 1: Male)_1.0']\n",
      "Coefficients:  [0.01467066 0.00773198 0.00693868]\n",
      "RMSE: 1.2246048125860045\n",
      "*********************\n",
      "feature:  force_HSR\n",
      "parameters:  ['const', 'weight (kg)']\n",
      "Coefficients:  [-26.30453596  10.74718481]\n",
      "RMSE: 0.7767724801876099\n",
      "*********************\n",
      "feature:  force_MidSSR\n",
      "parameters:  ['const', 'weight (kg)']\n",
      "Coefficients:  [-1.765053    8.84154977]\n",
      "RMSE: 1.0938962844422746\n",
      "*********************\n",
      "feature:  force_TOR\n",
      "parameters:  ['const', 'weight (kg)', 'Gender (0: Female, 1: Male)_1.0']\n",
      "Coefficients:  [63.42605574  9.21880241 49.93679944]\n",
      "RMSE: 1.3720920197230186\n",
      "*********************\n",
      "feature:  force_HSL\n",
      "parameters:  ['const', 'weight (kg)']\n",
      "Coefficients:  [ 9.86677704 10.29549406]\n",
      "RMSE: 0.9050022219113568\n",
      "*********************\n",
      "feature:  force_TOL\n",
      "parameters:  ['const', 'weight (kg)', 'Gender (0: Female, 1: Male)_1.0']\n",
      "Coefficients:  [60.24765817  9.27192436 47.17298361]\n",
      "RMSE: 0.8064946523509373\n",
      "*********************\n",
      "feature:  force_MidSSL\n",
      "parameters:  ['const', 'weight (kg)']\n",
      "Coefficients:  [23.22709398  8.51532929]\n",
      "RMSE: 1.2554621825887995\n",
      "*********************\n",
      "feature:  LeftFPA\n",
      "parameters:  ['const', 'age (yrs)', 'weight (kg)']\n",
      "Coefficients:  [-3.17046592  0.04054656  0.01322723]\n",
      "RMSE: 0.8722964835647705\n",
      "*********************\n",
      "feature:  RightFPA\n",
      "parameters:  ['const', 'age (yrs)', 'weight (kg)']\n",
      "Coefficients:  [-2.51742386  0.02672284  0.01444031]\n",
      "RMSE: 1.0744095931949653\n",
      "*********************\n",
      "feature:  Butterfly_x_abs\n",
      "parameters:  ['const', 'height (m)', 'age (yrs)']\n",
      "Coefficients:  [-3.45577593e-03  3.12985968e-03  7.25238177e-05]\n",
      "RMSE: 1.3664041509369331\n",
      "*********************\n",
      "feature:  ButterflySQ_x\n",
      "parameters:  ['const', 'age (yrs)']\n",
      "Coefficients:  [1.85341640e-05 8.53445497e-07]\n",
      "RMSE: 1.8341056939673082\n",
      "*********************\n"
     ]
    }
   ],
   "source": [
    "for feature in dict_mr:\n",
    "    parameters = dict_mr[feature]\n",
    "    print ('feature: ', feature)\n",
    "    print ('parameters: ', parameters)\n",
    "    scale_mr(feature, parameters)\n",
    "    print ('*********************')"
   ]
  },
  {
   "cell_type": "code",
   "execution_count": 273,
   "metadata": {},
   "outputs": [],
   "source": [
    "#Dropping the extra variables not needed as scaling factors\n",
    "to_drop = ['height (m)', 'weight (kg)', 'age (yrs)', 'Gender (0: Female, 1: Male)_0.0', 'Gender (0: Female, 1: Male)_1.0', \n",
    "           'const']\n",
    "mr_dataframe.drop(to_drop, axis = 1, inplace = True)\n",
    "\n",
    "#After obtaining the scaling matrix, computing the MR-scaled gait features \n",
    "mr_scaled_features = raw_df2[list(dict_mr.keys())]/mr_dataframe[list(dict_mr.keys())]\n",
    "mr_scaled_features['PID'] = raw_df2['PID']\n",
    "mr_scaled_features['TrialID'] = raw_df2['TrialID']\n",
    "mr_scaled_features['Label'] = raw_df2['Label']\n",
    "mr_scaled_features.to_csv(path + '\\\\..\\\\..\\\\extracted_features\\\\mr_scaled_features.csv')"
   ]
  },
  {
   "cell_type": "markdown",
   "metadata": {},
   "source": [
    "### Extra exploration"
   ]
  },
  {
   "cell_type": "code",
   "execution_count": 184,
   "metadata": {},
   "outputs": [
    {
     "data": {
      "text/plain": [
       "<matplotlib.axes._subplots.AxesSubplot at 0x1e8fe1ad320>"
      ]
     },
     "execution_count": 184,
     "metadata": {},
     "output_type": "execute_result"
    },
    {
     "data": {
      "image/png": "[encoded data removed]",
      "text/plain": [
       "<Figure size 432x288 with 1 Axes>"
      ]
     },
     "metadata": {
      "needs_background": "light"
     },
     "output_type": "display_data"
    }
   ],
   "source": [
    "import seaborn as sns\n",
    "sns.boxplot(x= 'TrialID', hue = 'Label', y='walk_ratio', data=raw_df, linewidth=2.5, palette=\"Set3\", showfliers=False)"
   ]
  },
  {
   "cell_type": "code",
   "execution_count": 22,
   "metadata": {},
   "outputs": [
    {
     "data": {
      "text/plain": [
       "0.9284387434964712"
      ]
     },
     "execution_count": 22,
     "metadata": {},
     "output_type": "execute_result"
    }
   ],
   "source": [
    "from sklearn.ensemble import RandomForestClassifier\n",
    "from sklearn.model_selection import cross_val_score\n",
    "from sklearn.metrics import accuracy_score\n",
    "from sklearn import preprocessing\n",
    "from sklearn.model_selection import train_test_split, KFold, cross_val_score\n",
    "from sklearn.preprocessing import StandardScaler\n",
    "from sklearn.pipeline import make_pipeline\n",
    "from sklearn.externals import joblib\n",
    "from sklearn.utils import shuffle\n",
    "from sklearn.metrics import roc_curve, auc\n",
    "\n",
    "X, y = raw_df[list(dict_mr.keys())], raw_df['Label']\n",
    "normalized_X = X#preprocessing.scale(X)\n",
    "clf = RandomForestClassifier(bootstrap=True, class_weight=None, criterion='gini',\n",
    "            max_depth=14, max_features=16, max_leaf_nodes=None,\n",
    "            min_impurity_decrease=0.0, min_impurity_split=None,\n",
    "            min_samples_leaf=2, min_samples_split=4,\n",
    "            min_weight_fraction_leaf=0.0, n_estimators=46, n_jobs=None,\n",
    "            oob_score=False, random_state=None, verbose=0,\n",
    "            warm_start=False)\n",
    "k = 10\n",
    "kf = KFold(n_splits = k, shuffle = True)\n",
    "pipeline = make_pipeline(clf)\n",
    "cv_result = cross_val_score(pipeline, normalized_X, y, cv = kf, scoring = 'f1')\n",
    "cv_result.mean()"
   ]
  },
  {
   "cell_type": "code",
   "execution_count": 23,
   "metadata": {},
   "outputs": [
    {
     "data": {
      "text/plain": [
       "0.8752282009043263"
      ]
     },
     "execution_count": 23,
     "metadata": {},
     "output_type": "execute_result"
    }
   ],
   "source": [
    "from sklearn.ensemble import RandomForestClassifier\n",
    "from sklearn.model_selection import cross_val_score\n",
    "from sklearn.metrics import accuracy_score\n",
    "X, y = mr_scaled_features[list(dict_mr.keys())], mr_scaled_features['Label']\n",
    "normalized_X = X#preprocessing.scale(X)\n",
    "clf = RandomForestClassifier(bootstrap=True, class_weight=None, criterion='gini',\n",
    "            max_depth=14, max_features=16, max_leaf_nodes=None,\n",
    "            min_impurity_decrease=0.0, min_impurity_split=None,\n",
    "            min_samples_leaf=2, min_samples_split=4,\n",
    "            min_weight_fraction_leaf=0.0, n_estimators=46, n_jobs=None,\n",
    "            oob_score=False, random_state=None, verbose=0,\n",
    "            warm_start=False)\n",
    "k = 10\n",
    "kf = KFold(n_splits = k, shuffle = True)\n",
    "pipeline = make_pipeline(clf)\n",
    "cv_result = cross_val_score(pipeline, normalized_X, y, cv = kf, scoring = 'f1')\n",
    "cv_result.mean()"
   ]
  },
  {
   "cell_type": "code",
   "execution_count": null,
   "metadata": {},
   "outputs": [],
   "source": []
  }
 ],
 "metadata": {
  "kernelspec": {
   "display_name": "Python 3",
   "language": "python",
   "name": "python3"
  },
  "language_info": {
   "codemirror_mode": {
    "name": "ipython",
    "version": 3
   },
   "file_extension": ".py",
   "mimetype": "text/x-python",
   "name": "python",
   "nbconvert_exporter": "python",
   "pygments_lexer": "ipython3",
   "version": "3.7.3"
  }
 },
 "nbformat": 4,
 "nbformat_minor": 2
}
