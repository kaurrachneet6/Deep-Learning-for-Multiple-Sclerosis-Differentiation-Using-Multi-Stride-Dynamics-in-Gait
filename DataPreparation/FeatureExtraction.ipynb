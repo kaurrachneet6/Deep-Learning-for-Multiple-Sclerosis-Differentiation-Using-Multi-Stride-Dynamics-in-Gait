{
 "cells": [
  {
   "cell_type": "markdown",
   "metadata": {},
   "source": [
    "## GAAIMS: Predicting Multiple Sclerosis from Dynamics of Gait Variability Using an Instrumented Treadmill - A Machine Learning-Based Approach\n",
    "## Feature engineering "
   ]
  },
  {
   "cell_type": "markdown",
   "metadata": {},
   "source": [
    "### Package imports"
   ]
  },
  {
   "cell_type": "code",
   "execution_count": 90,
   "metadata": {},
   "outputs": [],
   "source": [
    "import numpy as np\n",
    "import pandas as pd\n",
    "import math\n",
    "import os\n",
    "import warnings\n",
    "warnings.filterwarnings('ignore')\n",
    "import matplotlib.pyplot as plt\n",
    "import seaborn as sns"
   ]
  },
  {
   "cell_type": "code",
   "execution_count": 91,
   "metadata": {},
   "outputs": [],
   "source": [
    "path = 'C:\\\\Users\\\\Rachneet Kaur\\\\Dropbox\\\\GAIT\\\\sample_data\\\\data_export\\\\'"
   ]
  },
  {
   "cell_type": "code",
   "execution_count": 92,
   "metadata": {},
   "outputs": [],
   "source": [
    "# Get all the file names in the dictionary\n",
    "control_ids = list(range(200, 220))\n",
    "ms_ids = list(range(300, 315)) + [318, 320, 321, 322, 323]\n",
    "raw_controls_t1 = [path +str(i)+ '_B3_TRIAL01_RAWDATA.csv' for i in control_ids]\n",
    "raw_controls_t2 = [path +str(i)+ '_B3_TRIAL02_RAWDATA.csv' for i in control_ids]\n",
    "\n",
    "raw_ms_t1 = [path +str(i)+ '_B3_TRIAL01_RAWDATA.csv' for i in ms_ids]\n",
    "raw_ms_t2 = [path +str(i)+ '_B3_TRIAL02_RAWDATA.csv' for i in ms_ids]\n",
    "\n",
    "gait_controls_t1 = [path +str(i)+ '_B3_TRIAL01_GAITCYCLES.csv' for i in control_ids]\n",
    "gait_controls_t2 = [path +str(i)+ '_B3_TRIAL02_GAITCYCLES.csv' for i in control_ids]\n",
    "\n",
    "gait_ms_t1 = [path +str(i)+ '_B3_TRIAL01_GAITCYCLES.csv' for i in ms_ids]\n",
    "gait_ms_t2 = [path +str(i)+ '_B3_TRIAL02_GAITCYCLES.csv' for i in ms_ids]"
   ]
  },
  {
   "cell_type": "code",
   "execution_count": 93,
   "metadata": {},
   "outputs": [],
   "source": [
    "# for every GaitCycle file, a sequence of walk will always start with a heel strike on the right foot.\n",
    "# Thus the order of the Gait event points would be HSR, TOL, MidSSR, HSL, TOR and MidSSL.\n",
    "gait_type = np.array(['HSR', 'TOL', 'MidSSR', 'HSL', 'TOR', 'MidSSL'])\n",
    "\n",
    "#Delta_time\n",
    "delta_time = 0.002 #Since the data is collected is 500Hz frequency "
   ]
  },
  {
   "cell_type": "markdown",
   "metadata": {},
   "source": [
    "### Utility functions"
   ]
  },
  {
   "cell_type": "code",
   "execution_count": 94,
   "metadata": {},
   "outputs": [],
   "source": [
    "#functions to drop missing values and invalid data \n",
    "def drop_unnamed(dataframe):\n",
    "    return(dataframe.drop(['Unnamed: 0', 'Unnamed: 0.1'], axis = 1))\n",
    "\n",
    "#Eliminate missing values\n",
    "def drop_na(dataframe):\n",
    "    return(pd.DataFrame.dropna(dataframe))\n",
    "\n",
    "#Eliminate invalid data \n",
    "def get_valid(dataframe):\n",
    "    return(dataframe.loc[dataframe.Valid == True, :])\n",
    "\n",
    "# Valid strides in the gait_cycles.csv file \n",
    "def get_cycle(dataframe):\n",
    "    stride_start = min(dataframe.loc[dataframe.EventType == 'HSR'].index)\n",
    "    stride_end = max(dataframe.loc[dataframe.EventType == 'MidSSL'].index)   \n",
    "    return dataframe.loc[stride_start:stride_end]\n",
    "\n",
    "# Restore the indexing for the cropped dataframe \n",
    "def change_index(dataframe):\n",
    "    dataframe.index = range(len(dataframe))\n",
    "    return dataframe\n",
    "\n",
    "# get all the valid index in order: HSR-TOL-MidSSR-HSL-TOR-MidSSL\n",
    "def set_complete(data_frame):\n",
    "    # input is the Dataframe includes ONLY valid points \n",
    "    # get all the index of HSR since it starts with heal strike left\n",
    "    # if the length of last gait cycle contain HSR does not equals to 6, then ignore it\n",
    "    \n",
    "    HSR = data_frame.loc[data_frame.EventType == 'HSR'].index\n",
    "    last_idx = HSR[-1]\n",
    "    last_all_idx = data_frame.index[-1]\n",
    "    # if the last gait cycles contains HSR is not a valid gait cycle, then we should consider the last second HSR instead.\n",
    "    if((last_all_idx-last_idx) < 5):\n",
    "        HSR = HSR[0:-1] \n",
    "    else:\n",
    "        HSR = HSR\n",
    "    \n",
    "    # get all the valid index in order: HSR-TOL-MidSSR-HSL-TOR-MidSSL\n",
    "    valid = []\n",
    "    for idx_HSR in HSR:\n",
    "        if (((idx_HSR + 1) in data_frame.index) & ((idx_HSR + 2) in data_frame.index) &\n",
    "            ((idx_HSR + 3) in data_frame.index) & ((idx_HSR + 4) in data_frame.index) & \n",
    "            ((idx_HSR + 5) in data_frame.index)):\n",
    "            # the valid index exist in the dataframe.\n",
    "            if((data_frame.loc[idx_HSR + 1].EventType == 'TOL') & (data_frame.loc[idx_HSR + 2].EventType == 'MidSSR') & \n",
    "               (data_frame.loc[idx_HSR + 3].EventType == 'HSL') & (data_frame.loc[idx_HSR + 4].EventType == 'TOR') & \n",
    "               (data_frame.loc[idx_HSR + 5].EventType == 'MidSSL')):\n",
    "                valid.extend(range(idx_HSR, idx_HSR+6))\n",
    "    #returns the list of valid indices which form complete strides \n",
    "    return valid"
   ]
  },
  {
   "cell_type": "markdown",
   "metadata": {},
   "source": [
    "### Data Preprocessing"
   ]
  },
  {
   "cell_type": "code",
   "execution_count": 95,
   "metadata": {},
   "outputs": [],
   "source": [
    "#Preprocessing the files to delete missing and invalid data \n",
    "#For each person (control and MS) in Trial 1\n",
    "def cleaning(pid, trial = 1, cohort = 'controls'):\n",
    "    if (cohort == 'controls'):\n",
    "        if (trial == 1):\n",
    "            gait = pd.read_csv(gait_controls_t1[pid])\n",
    "            raw = pd.read_csv(raw_controls_t1[pid])\n",
    "        else:\n",
    "            gait = pd.read_csv(gait_controls_t2[pid])\n",
    "            raw = pd.read_csv(raw_controls_t2[pid])            \n",
    "    \n",
    "    if (cohort == 'pwms'):\n",
    "        if (trial == 1):\n",
    "            gait = pd.read_csv(gait_ms_t1[pid])\n",
    "            raw = pd.read_csv(raw_ms_t1[pid])\n",
    "        else:\n",
    "            gait = pd.read_csv(gait_ms_t2[pid])\n",
    "            raw = pd.read_csv(raw_ms_t2[pid])            \n",
    "    gait = drop_na(gait)\n",
    "    gait  = get_valid(gait)\n",
    "\n",
    "    #Reducing to complete strides data \n",
    "    gait = get_cycle(gait)\n",
    "    indices_complete = set_complete(gait)\n",
    "    gait = gait.loc[indices_complete]\n",
    "\n",
    "    #Resetting the index \n",
    "    gait = change_index(gait)\n",
    "    return indices_complete, gait, raw"
   ]
  },
  {
   "cell_type": "markdown",
   "metadata": {},
   "source": [
    "### Our gait cycle would be HSR, TOL, MidSSR, HSL, TOR and MidSSL"
   ]
  },
  {
   "cell_type": "markdown",
   "metadata": {},
   "source": [
    "### Supporting times"
   ]
  },
  {
   "cell_type": "code",
   "execution_count": 96,
   "metadata": {},
   "outputs": [],
   "source": [
    "#Supporting Times\n",
    "#Double support: HSR-TOL\n",
    "#Single support (Right): TOL-MidSSR-HSL\n",
    "#Double Support: HSL-TOR\n",
    "#Signle support (Left): TOR - MidSSL-HSR (of the next stride)\n",
    "# Note, for counting supporting time of a foot for current stride, we need the HSR for the next stride\n",
    "def get_cycle_double_single(Dataframe):\n",
    "    stride_start = min(Dataframe.loc[Dataframe.EventType == 'HSR'].index)\n",
    "    stride_end = max(Dataframe.loc[Dataframe.EventType == 'HSR'].index)   \n",
    "    return Dataframe.loc[stride_start:stride_end]\n",
    "\n",
    "# delete the 'mid' points for calculating supporting time for convenience\n",
    "def delete_mid(Dataframe):\n",
    "    midl = Dataframe.loc[Dataframe.EventType == 'MidSSL'].index\n",
    "    midr = Dataframe.loc[Dataframe.EventType == 'MidSSR'].index\n",
    "    new_index = pd.Int64Index(np.arange(len(Dataframe))).difference(list(midl) + list(midr))\n",
    "    return(Dataframe.loc[pd.Int64Index(list(new_index))])\n",
    "\n",
    "#This function computes the 4 features for supporting times ,namely, double support (on right and left heels) and single support \n",
    "#(on left and right foot) \n",
    "def support(gait):\n",
    "    ####################\n",
    "    #insert the support#\n",
    "    ####################\n",
    "    double_single = get_cycle_double_single(gait) \n",
    "    #Reducing the dataframe from first HSR to last HSR for calculating supporting times\n",
    "    \n",
    "    # change the index again for counting strides\n",
    "    double_single = change_index(double_single)\n",
    "    \n",
    "    # MidSSR and MidSSL is useless for calculating the support time\n",
    "    double_single = delete_mid(double_single)\n",
    "    # get the time\n",
    "    time = list(double_single['Time'])\n",
    "    time_d_s = list(np.array(time[1:]) - np.array(time[0:-1])) \n",
    "    #Since now the events are HSR-TOL-HSL-TOR, we can simply take time[1:]-time[:-1]\n",
    "    \n",
    "    Double_LeftWhole_RightHeal = time_d_s[0::4] # support by whole left foot and right heal #HSR-TOL\n",
    "    Single_Right = time_d_s[1::4] # support bi single right feet #TOL-HSL\n",
    "    Double_RightWhole_LeftHeal = time_d_s[2::4] #HSL-TOR\n",
    "    Single_left = time_d_s[3::4] #TOR-HSR (of the next stride)\n",
    "    return Double_LeftWhole_RightHeal, Single_Right, Double_RightWhole_LeftHeal, Single_left"
   ]
  },
  {
   "cell_type": "markdown",
   "metadata": {},
   "source": [
    "### Treadmill self-controlled speed and Ground reaction forces at gait events "
   ]
  },
  {
   "cell_type": "code",
   "execution_count": 97,
   "metadata": {},
   "outputs": [],
   "source": [
    "#Function returning the treadmill speed or ground reaction forces at 6 gait events \n",
    "def tspeeds_forces(gait, raw, stride_count, feature = 'Speed'):\n",
    "    #Exact times of HSR\n",
    "    HSR_times = gait['Time'][gait.EventType == 'HSR']\n",
    "    #Exact times of TOR \n",
    "    TOR_times = gait['Time'][gait.EventType == 'TOR']\n",
    "    #Exact times of HSL\n",
    "    HSL_times = gait['Time'][gait.EventType == 'HSL']\n",
    "    #Exact times of TOL \n",
    "    TOL_times = gait['Time'][gait.EventType == 'TOL']\n",
    "    #Exact times of MidSSR \n",
    "    MidSSR_times = gait['Time'][gait.EventType == 'MidSSR']\n",
    "    #Exact times of MidSSL\n",
    "    MidSSL_times = gait['Time'][gait.EventType == 'MidSSL']\n",
    "\n",
    "    #For six events of interest, calculate the closest times from RAWDATA.csv file \n",
    "    #and keep the treadmill speed (tspeed) at that point if feature == 'Speed' or \n",
    "    #ground reaction force if feature == 'TreadMill_FZ'\n",
    "    HSR_raw = [raw[feature][raw['Time']>HSR_times.iloc[i]].iloc[0] for i in range(stride_count)]\n",
    "    TOR_raw = [raw[feature][raw['Time']>TOR_times.iloc[i]].iloc[0] for i in range(stride_count)]\n",
    "    HSL_raw = [raw[feature][raw['Time']>HSL_times.iloc[i]].iloc[0] for i in range(stride_count)]\n",
    "    TOL_raw = [raw[feature][raw['Time']>TOL_times.iloc[i]].iloc[0] for i in range(stride_count)]\n",
    "    MidSSR_raw = [raw[feature][raw['Time']>MidSSR_times.iloc[i]].iloc[0] for i in range(stride_count)]\n",
    "    MidSSL_raw = [raw[feature][raw['Time']>MidSSL_times.iloc[i]].iloc[0] for i in range(stride_count)]\n",
    "\n",
    "    return HSR_raw, MidSSR_raw, TOR_raw, HSL_raw, TOL_raw, MidSSL_raw"
   ]
  },
  {
   "cell_type": "markdown",
   "metadata": {},
   "source": [
    "### Stride, swing and stance times for each stride "
   ]
  },
  {
   "cell_type": "code",
   "execution_count": 98,
   "metadata": {},
   "outputs": [],
   "source": [
    "#Function computing the stride, swing and stance times for each stride \n",
    "def times(gait):\n",
    "    #Exact times of HSR\n",
    "    HSR_times = gait['Time'][gait.EventType == 'HSR']\n",
    "    #Exact times of TOR \n",
    "    TOR_times = gait['Time'][gait.EventType == 'TOR']\n",
    "    #Exact times of HSL\n",
    "    HSL_times = gait['Time'][gait.EventType == 'HSL']\n",
    "    #Exact times of TOL \n",
    "    TOL_times = gait['Time'][gait.EventType == 'TOL']\n",
    "    #Exact times of MidSSR \n",
    "    MidSSR_times = gait['Time'][gait.EventType == 'MidSSR']\n",
    "    #Exact times of MidSSL\n",
    "    MidSSL_times = gait['Time'][gait.EventType == 'MidSSL']\n",
    "\n",
    "    #Stride Time = Next HSR Time - Current HSR Time\n",
    "    stride_times = HSR_times[1:].values - HSR_times[:-1].values\n",
    "\n",
    "    #Swing time = Next HSR time - Current TOR time\n",
    "    swing_times = HSR_times[1:].values - TOR_times[:-1].values\n",
    "\n",
    "    #Stance time = Current TOR time - Current HSR time \n",
    "    stance_times = TOR_times.values - HSR_times.values\n",
    "\n",
    "    return stride_times, swing_times, stance_times"
   ]
  },
  {
   "cell_type": "markdown",
   "metadata": {},
   "source": [
    "### Stride length"
   ]
  },
  {
   "cell_type": "code",
   "execution_count": 99,
   "metadata": {},
   "outputs": [],
   "source": [
    "#Function returning the difference between consequetive Y-coordinates \n",
    "def stride_len(y1, y2):\n",
    "    return y2-y1\n",
    "\n",
    "def length(gait, raw, indices_complete, stride_count):\n",
    "    #Function returning the stride length \n",
    "    #Exact times of HSR\n",
    "    HSR_times = gait['Time'][gait.EventType == 'HSR']\n",
    "\n",
    "    #For HSR, calculate the closest times from RAWDATA.csv file \n",
    "    HSR_times_raw = [raw['Time'][raw['Time']>HSR_times.iloc[i]].iloc[0] for i in range(stride_count)]\n",
    "\n",
    "    #Y for HSR\n",
    "    HSR_Y = gait['Y'][gait.EventType == 'HSR']\n",
    "    rely_progR = []\n",
    "\n",
    "    for idx in range(0, stride_count): #Use for all strides for each person, each trial\n",
    "        try:\n",
    "            #For Right Foot\n",
    "            #Relative y indices for HSR(i-1) to HSR(i) \n",
    "            rely_prog_idxR = (raw['Time']>=HSR_times_raw[idx]) & (raw['Time']<HSR_times_raw[idx+1]) #Progression vector \n",
    "            #Relative_y or Belt Speed = Speed*dt = Area under the speed curve *dt for HSR(i-1) to HSR(i)\n",
    "            rely_progR.append(np.trapz(raw['Speed'][rely_prog_idxR])*0.002) \n",
    "        except:\n",
    "            pass\n",
    "    #Right Foot \n",
    "    #HSR_Y after adding the relative y correspoding to previous HSR\n",
    "    rel_HSR_Y = HSR_Y[1:].values+np.array(rely_progR) \n",
    "\n",
    "    #Stride length HSR-NextHSR \n",
    "    length = np.array(list(map(stride_len, HSR_Y[:-1].values, rel_HSR_Y)))\n",
    "\n",
    "    #Right Foot\n",
    "    #Convert in-consequetive gait cycles' stride length to NaN \n",
    "    stride_idx = np.array(indices_complete[::6][1:]) - np.array(indices_complete[::6][:-1])\n",
    "    #If this difference is not 6, that means the valid strides is not in consequent order, hence, we cannot compute lengths \n",
    "    length[np.where(stride_idx!=6)[0]] = np.nan\n",
    "    return length"
   ]
  },
  {
   "cell_type": "markdown",
   "metadata": {},
   "source": [
    "### Stride width"
   ]
  },
  {
   "cell_type": "code",
   "execution_count": 100,
   "metadata": {},
   "outputs": [],
   "source": [
    "#Stride Width = abs((x2-x1)*(y1-y0) - (x1-x0)*(y2-y1)) / np.sqrt(np.square(x2-x1) + np.square(y2-y1))\n",
    "#where (x0, y0) is the point from HS of opposite feet (i.e. coordinates of HSL)\n",
    "#and (x1,y1), (x2,y2) are coordinates that make the line joining HS(i-1) and HS(i) of same feet\n",
    "def stride_wid(x0, y0, x1, y1, x2, y2):\n",
    "    return np.abs((x2-x1)*(y1-y0) - (x1-x0)*(y2-y1)) / np.sqrt((x2-x1)**2 + (y2-y1)**2)"
   ]
  },
  {
   "cell_type": "code",
   "execution_count": 101,
   "metadata": {},
   "outputs": [],
   "source": [
    "#Function returning the stride width\n",
    "def calc_width(gait, raw, indices_complete, stride_count):\n",
    "    #Exact times of HSR\n",
    "    HSR_times = gait['Time'][gait.EventType == 'HSR']\n",
    "    #Exact times of HSL\n",
    "    HSL_times = gait['Time'][gait.EventType == 'HSL']\n",
    "\n",
    "    #For HSR, calculate the closest times from RAWDATA.csv file \n",
    "    HSR_times_raw = [raw['Time'][raw['Time']>HSR_times.iloc[i]].iloc[0] for i in range(stride_count)]\n",
    "    #For HSL, calculate the closest times from RAWDATA.csv file \n",
    "    HSL_times_raw = [raw['Time'][raw['Time']>HSL_times.iloc[i]].iloc[0] for i in range(stride_count)]\n",
    "\n",
    "    #Y for HSR\n",
    "    HSR_Y = gait['Y'][gait.EventType == 'HSR']\n",
    "    #Y for HSL\n",
    "    HSL_Y = gait['Y'][gait.EventType == 'HSL']\n",
    "\n",
    "    #X for HSR\n",
    "    HSR_X = gait['X'][gait.EventType == 'HSR']\n",
    "    #X for HSL\n",
    "    HSL_X = gait['X'][gait.EventType == 'HSL']\n",
    "\n",
    "    rely_progR = []\n",
    "    rely_progL = []\n",
    "\n",
    "    for idx in range(0, stride_count): #Use for all strides for each person, each trial\n",
    "        try:\n",
    "            #For Right Foot\n",
    "            #Relative y indices for HSR(i-1) to HSR(i) \n",
    "            rely_prog_idxR = (raw['Time']>=HSR_times_raw[idx]) & (raw['Time']<HSR_times_raw[idx+1]) #Progression vector \n",
    "            #Relative_y or Belt Speed = Speed*dt = Area under the speed curve *dt for HSR(i-1) to HSR(i)\n",
    "            rely_progR.append(np.trapz(raw['Speed'][rely_prog_idxR])*0.002) \n",
    "\n",
    "            #Relative y indices for HSR(i-1) to HSL(i-1) \n",
    "            rely_prog_idxL = (raw['Time']>=HSR_times_raw[idx]) & (raw['Time']<HSL_times_raw[idx]) #Progression vector \n",
    "            #Relative_y or Belt Speed = Speed*dt = Area under the speed curve *dt for HSR(i-1) to HSL(i-1)\n",
    "            rely_progL.append(np.trapz(raw['Speed'][rely_prog_idxL])*0.002)         \n",
    "\n",
    "        except:\n",
    "            pass\n",
    "    #Right Foot \n",
    "    #HSR_Y after adding the relative y correspoding to previous HSR\n",
    "    rel_HSR_Y = HSR_Y[1:].values+np.array(rely_progR) \n",
    "    #Left Foot \n",
    "    #HSL_Y after adding the relative y correspoding to same stride's HSR\n",
    "    rel_HSL_Y = HSL_Y[:-1].values+np.array(rely_progL) \n",
    "\n",
    "    #Stride width HSR-HSL-NextHSR \n",
    "    width = np.array(list(map(stride_wid, HSL_X[:-1].values, rel_HSL_Y, HSR_X[:-1].values, HSR_Y[:-1].values, \n",
    "                                     HSR_X[1:].values, rel_HSR_Y)))\n",
    "\n",
    "    #Right Foot\n",
    "    #Convert in-consequetive gait cycles' stride width to NaN \n",
    "    stride_idx = np.array(indices_complete[::6][1:]) - np.array(indices_complete[::6][:-1])\n",
    "    #If this difference is not 6, that means the valid strides is not in consequent order, hence, we cannot compute lengths \n",
    "    width[np.where(stride_idx!=6)[0]] = np.nan\n",
    "    return width"
   ]
  },
  {
   "cell_type": "markdown",
   "metadata": {},
   "source": [
    "### Computing all the gait-based features"
   ]
  },
  {
   "cell_type": "code",
   "execution_count": 102,
   "metadata": {},
   "outputs": [],
   "source": [
    "#Appending the 24 features \n",
    "def gait_features(pid, trial_id, cohort):\n",
    "    df = pd.DataFrame()\n",
    "    indices_complete, gait, raw = cleaning(pid, trial_id, cohort)\n",
    "    stride_count = int(gait.shape[0]/6) #6 events in each stride\n",
    "    \n",
    "    #Inserting the supporting times \n",
    "    DS_R, SS_R, DS_L, SS_L = support(gait)\n",
    "    #Total length must match the stride count \n",
    "    #Append NaN at the end for all the supporting times since for SS_L, we need the next stride available, \n",
    "    #hence SS_L does not exist for the last stride\n",
    "    df['DS_R'], df['SS_R'], df['DS_L'], df['SS_L'] = np.append(DS_R, np.nan), np.append(SS_R, np.nan), np.append(DS_L, np.nan), np.append(SS_L, np.nan)\n",
    "    \n",
    "    #Inserting the treadmill speeds \n",
    "    df['tspeed_HSR'], df['tspeed_MidSSR'], df['tspeed_TOR'], df['tspeed_HSL'], df['tspeed_TOL'], df['tspeed_MidSSL'] = tspeeds_forces(gait, raw, stride_count, 'Speed')\n",
    "    \n",
    "    #Inserting the ground reaction forces \n",
    "    df['force_HSR'], df['force_MidSSR'], df['force_TOR'], df['force_HSL'], df['force_TOL'], df['force_MidSSL'] = tspeeds_forces(gait, raw, stride_count, 'TreadMill_FZ')\n",
    "    \n",
    "    #Inserting the stride, stance and swing times \n",
    "    stride_time, swing_time, stance_time= times(gait)\n",
    "    #Append NaN at the end for all the stride and swing time since we need next stride for computation of these at current stride\n",
    "    df['stride_time'], df['swing_time'] = np.append(stride_time, np.nan), np.append(swing_time, np.nan)\n",
    "    df['stance_time'] = stance_time\n",
    "    \n",
    "    #Inserting the stride length \n",
    "    stride_length = length(gait, raw, indices_complete, stride_count)\n",
    "    #For length, append NaN at the end\n",
    "    df['stride_length'] = np.append(stride_length, np.nan)\n",
    "    \n",
    "    #Inserting the stride width\n",
    "    stride_width = calc_width(gait, raw, indices_complete, stride_count)\n",
    "    #For stride width, append NaN at the end \n",
    "    df['stride_width'] = np.append(stride_width, np.nan)\n",
    "    \n",
    "    #Inserting the stride speed\n",
    "    df['stride_speed'] = df['stride_length']/df['stride_time']\n",
    "    \n",
    "    #Inserting the cadence (steps per minute i.e. 60*2/stride_time since 1 stride has 2 steps \n",
    "    #and stride time is in seconds so multiple by 60 to compute steps in a minute)\n",
    "    df['cadence'] = 60*2/df['stride_time'] \n",
    "    \n",
    "    #Inserting the walk ratio = sride_length/(strides per minute) where stride_per_min = cadence/2 (Unit: m/strides/min)\n",
    "    df['walk_ratio'] = 2*df['stride_length']/df['cadence']\n",
    "    return df"
   ]
  },
  {
   "cell_type": "code",
   "execution_count": 103,
   "metadata": {},
   "outputs": [],
   "source": [
    "#Dataframe with Patient ID, Trial ID, (Right FPA, Left FPA for each stride)\n",
    "final_df = pd.DataFrame()\n",
    "\n",
    "cohorts = ['controls', 'pwms']\n",
    "trials = [1, 2]\n",
    "for trial_id in trials:\n",
    "    for cohort in cohorts:\n",
    "        for index in range(0, 20): #20 people in each cohort and each trial\n",
    "            if cohort == 'controls':\n",
    "                pid = control_ids[index]\n",
    "            else:\n",
    "                pid = ms_ids[index]\n",
    "            df = gait_features(index, trial_id, cohort)\n",
    "            \n",
    "            temp_df = pd.DataFrame(data = np.array([[pid]*len(df), [trial_id]*len(df)]).T)\n",
    "            temp_df.columns = ['PID', 'TrialID']\n",
    "            temp_df = pd.concat([temp_df, df], axis = 1)\n",
    "            final_df = final_df.append(temp_df, ignore_index= True)"
   ]
  },
  {
   "cell_type": "code",
   "execution_count": 171,
   "metadata": {},
   "outputs": [],
   "source": [
    "#Combining all features together, including butterfly features and angles to create a final raw dataframe \n",
    "#Also inserting the labels \n",
    "FPAs = pd.read_csv(path+'..\\\\FPA\\\\FPA_feature.csv')\n",
    "butterfly = pd.read_csv(path+'..\\\\..\\\\ButterflyFeatures.csv')\n",
    "whole_df = pd.concat([FPAs[['LeftFPA', 'RightFPA', 'Label']], butterfly[['Butterfly_x_abs', 'Butterfly_y_abs', \n",
    "                                                                'ButterflySQ_x', 'ButterflySQ_y']], final_df], axis = 1)\n",
    "\n",
    "#Deleting the subjects who were holding the handrail to remove bias involded in forces \n",
    "subjects_to_delete = [212, 213, 309, 310, 311]\n",
    "\n",
    "for subject_to_delete in subjects_to_delete:\n",
    "    index_to_delete = whole_df[ whole_df['PID']==subject_to_delete].index\n",
    "    whole_df.drop(index_to_delete, inplace=True)\n",
    "    \n",
    "#Saving to .csv \n",
    "whole_df.to_csv(path + '..\\\\..\\\\gait_features.csv')\n",
    "\n",
    "#Saving to .csv trial 1 \n",
    "whole_df_trial1 = whole_df[whole_df['TrialID']==1]\n",
    "whole_df_trial1.to_csv(path + '..\\\\..\\\\gait_features_trial1.csv')\n",
    "\n",
    "#Saving to .csv trial 2 \n",
    "whole_df_trial2 = whole_df[whole_df['TrialID']==2]\n",
    "whole_df_trial2.to_csv(path + '..\\\\..\\\\gait_features_trial2.csv')"
   ]
  },
  {
   "cell_type": "code",
   "execution_count": 174,
   "metadata": {},
   "outputs": [
    {
     "name": "stdout",
     "output_type": "stream",
     "text": [
      "(1776, 33) (1710, 33) (3486, 33)\n"
     ]
    }
   ],
   "source": [
    "print (whole_df_trial1.shape, whole_df_trial2.shape, whole_df.shape)"
   ]
  },
  {
   "cell_type": "code",
   "execution_count": null,
   "metadata": {},
   "outputs": [],
   "source": []
  }
 ],
 "metadata": {
  "kernelspec": {
   "display_name": "Python 3",
   "language": "python",
   "name": "python3"
  },
  "language_info": {
   "codemirror_mode": {
    "name": "ipython",
    "version": 3
   },
   "file_extension": ".py",
   "mimetype": "text/x-python",
   "name": "python",
   "nbconvert_exporter": "python",
   "pygments_lexer": "ipython3",
   "version": "3.7.3"
  }
 },
 "nbformat": 4,
 "nbformat_minor": 2
}
