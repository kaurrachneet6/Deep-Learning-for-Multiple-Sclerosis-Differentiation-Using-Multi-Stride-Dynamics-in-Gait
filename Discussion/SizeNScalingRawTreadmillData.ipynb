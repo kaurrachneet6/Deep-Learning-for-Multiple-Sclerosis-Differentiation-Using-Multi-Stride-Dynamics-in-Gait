{
 "cells": [
  {
   "cell_type": "markdown",
   "id": "circular-network",
   "metadata": {},
   "source": [
    "## Using multiple strides in treadmill-acquired gait data for Multiple Sclerosis prediction \n",
    "### Size-N normalizing raw treadmill features (COPX, COPY, ForceZ and belt speed) for each stride\n",
    "\n",
    "Size N normalization should work. COP should be normalized by length (height), speed by (leg length or similar as gait speed), and force by body weight. However regress N does not make sense for COP metrics in raw data, as there is not a typical COP position expected.\n",
    "If raw COP data is used for a regression, then the dominant source of variance is the position of the person on treadmill, which would not be expected to provide meaningful information. COP data would need to have the mean subtracted to be comparable across strides, as in butterfly plot features."
   ]
  },
  {
   "cell_type": "code",
   "execution_count": 45,
   "id": "innocent-knock",
   "metadata": {},
   "outputs": [],
   "source": [
    "import numpy as np\n",
    "import pandas as pd\n",
    "import math\n",
    "import os\n",
    "import warnings\n",
    "warnings.filterwarnings('ignore')\n",
    "import matplotlib.pyplot as plt\n",
    "import seaborn as sns"
   ]
  },
  {
   "cell_type": "code",
   "execution_count": 46,
   "id": "cleared-thanksgiving",
   "metadata": {},
   "outputs": [],
   "source": [
    "#Path to raw grouped strides for the raw treadmill 4 features \n",
    "path_to_raw_grouped_strides = 'C:\\\\Users\\\\Rachneet Kaur\\\\Box\\\\GaitLSTMproject\\\\raw_treadmill_features\\\\grouped_5strides\\\\'\n",
    "grouped_labels = pd.read_csv(path_to_raw_grouped_strides + '..\\\\grouped_labels.csv', index_col = 0)\n",
    "grouped_labels.head()\n",
    "\n",
    "path_to_sizeN_grouped_strides = 'C:\\\\Users\\\\Rachneet Kaur\\\\Box\\\\GaitLSTMproject\\\\raw_treadmill_features\\\\sizeN_grouped_5strides\\\\'"
   ]
  },
  {
   "cell_type": "code",
   "execution_count": 47,
   "id": "going-bennett",
   "metadata": {},
   "outputs": [
    {
     "data": {
      "text/html": [
       "<div>\n",
       "<style scoped>\n",
       "    .dataframe tbody tr th:only-of-type {\n",
       "        vertical-align: middle;\n",
       "    }\n",
       "\n",
       "    .dataframe tbody tr th {\n",
       "        vertical-align: top;\n",
       "    }\n",
       "\n",
       "    .dataframe thead th {\n",
       "        text-align: right;\n",
       "    }\n",
       "</style>\n",
       "<table border=\"1\" class=\"dataframe\">\n",
       "  <thead>\n",
       "    <tr style=\"text-align: right;\">\n",
       "      <th></th>\n",
       "      <th>subject ID</th>\n",
       "      <th>height (m)</th>\n",
       "      <th>weight (kg)</th>\n",
       "      <th>shoe size (mm)</th>\n",
       "    </tr>\n",
       "  </thead>\n",
       "  <tbody>\n",
       "    <tr>\n",
       "      <th>0</th>\n",
       "      <td>200</td>\n",
       "      <td>1.600</td>\n",
       "      <td>76.1</td>\n",
       "      <td>251</td>\n",
       "    </tr>\n",
       "    <tr>\n",
       "      <th>1</th>\n",
       "      <td>201</td>\n",
       "      <td>1.720</td>\n",
       "      <td>97.8</td>\n",
       "      <td>260</td>\n",
       "    </tr>\n",
       "    <tr>\n",
       "      <th>2</th>\n",
       "      <td>202</td>\n",
       "      <td>1.651</td>\n",
       "      <td>56.1</td>\n",
       "      <td>245</td>\n",
       "    </tr>\n",
       "    <tr>\n",
       "      <th>3</th>\n",
       "      <td>203</td>\n",
       "      <td>1.690</td>\n",
       "      <td>72.1</td>\n",
       "      <td>254</td>\n",
       "    </tr>\n",
       "    <tr>\n",
       "      <th>4</th>\n",
       "      <td>204</td>\n",
       "      <td>1.930</td>\n",
       "      <td>80.0</td>\n",
       "      <td>286</td>\n",
       "    </tr>\n",
       "  </tbody>\n",
       "</table>\n",
       "</div>"
      ],
      "text/plain": [
       "   subject ID  height (m)  weight (kg)  shoe size (mm)\n",
       "0         200       1.600         76.1             251\n",
       "1         201       1.720         97.8             260\n",
       "2         202       1.651         56.1             245\n",
       "3         203       1.690         72.1             254\n",
       "4         204       1.930         80.0             286"
      ]
     },
     "execution_count": 47,
     "metadata": {},
     "output_type": "execute_result"
    }
   ],
   "source": [
    "#Reading the demographics of the subjects\n",
    "demographies = pd.read_csv('C:\\\\Users\\\\Rachneet Kaur\\\\Box\\\\GAIT\\\\sample_data\\\\demographics.csv')\n",
    "\n",
    "#Keeping demographics of only the 35 subjects we have the raw data for \n",
    "demographies = demographies[demographies['subject ID'].isin(grouped_labels['PID'].unique())]\n",
    "\n",
    "#Attaching the height, body mass and shoe size columns \n",
    "#Make sure the units match so that the final quantities are Dimension-less\n",
    "demographies = demographies[['subject ID', 'height (m)', 'weight (kg)', 'shoe size (mm)']]\n",
    "demographies.reset_index(inplace =True, drop = True)\n",
    "demographies.head()"
   ]
  },
  {
   "cell_type": "code",
   "execution_count": 48,
   "id": "noble-mistress",
   "metadata": {},
   "outputs": [],
   "source": [
    "#Attaching the height, weight and show size to the corresponding subjects \n",
    "grouped_labels['height'] = grouped_labels['PID'].map(demographies.set_index('subject ID')['height (m)'])\n",
    "grouped_labels['weight'] = grouped_labels['PID'].map(demographies.set_index('subject ID')['weight (kg)'])\n",
    "#Setting file name as the index \n",
    "grouped_labels.set_index('FileName', inplace= True)"
   ]
  },
  {
   "cell_type": "code",
   "execution_count": null,
   "id": "democratic-macro",
   "metadata": {
    "scrolled": true
   },
   "outputs": [],
   "source": [
    "g = 9.81 #Acceleration of gravity \n",
    "\n",
    "#Creating the new dimensionless scaled dataframe \n",
    "for raw_grouped_file in os.listdir(path_to_raw_grouped_strides):\n",
    "    raw_file = pd.read_csv(path_to_raw_grouped_strides + raw_grouped_file, index_col = 0)\n",
    "#     display (raw_file.head()) \n",
    "    \n",
    "    #Size-N normalization \n",
    "    #Speed\n",
    "    raw_file['Speed'] = raw_file['Speed']/np.sqrt(g*grouped_labels.loc[raw_grouped_file]['height'])  \n",
    "    #Forces = Forces/(weight*g)\n",
    "    raw_file['TreadMill_FZ'] = raw_file['TreadMill_FZ']/(grouped_labels.loc[raw_grouped_file]['weight']*g)\n",
    "    #Normalize COPX, COPY by height \n",
    "    raw_file['COPX'] = raw_file['COPX']/grouped_labels.loc[raw_grouped_file]['height']\n",
    "    raw_file['COPY'] = raw_file['COPY']/grouped_labels.loc[raw_grouped_file]['height']  \n",
    "#     display(raw_file.head())\n",
    "    #Saving the size-N normalized files \n",
    "    raw_file.to_csv(path_to_sizeN_grouped_strides + raw_grouped_file)"
   ]
  },
  {
   "cell_type": "code",
   "execution_count": null,
   "id": "rough-savings",
   "metadata": {},
   "outputs": [],
   "source": []
  },
  {
   "cell_type": "code",
   "execution_count": null,
   "id": "legal-heater",
   "metadata": {},
   "outputs": [],
   "source": []
  }
 ],
 "metadata": {
  "kernelspec": {
   "display_name": "Python 3",
   "language": "python",
   "name": "python3"
  },
  "language_info": {
   "codemirror_mode": {
    "name": "ipython",
    "version": 3
   },
   "file_extension": ".py",
   "mimetype": "text/x-python",
   "name": "python",
   "nbconvert_exporter": "python",
   "pygments_lexer": "ipython3",
   "version": "3.7.3"
  }
 },
 "nbformat": 4,
 "nbformat_minor": 5
}
